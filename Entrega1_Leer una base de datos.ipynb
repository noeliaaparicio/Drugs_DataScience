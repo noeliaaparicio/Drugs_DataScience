{
  "nbformat": 4,
  "nbformat_minor": 0,
  "metadata": {
    "colab": {
      "name": "Idea+Schamberger.ipynb",
      "provenance": []
    },
    "kernelspec": {
      "name": "python3",
      "display_name": "Python 3"
    },
    "language_info": {
      "name": "python"
    }
  },
  "cells": [
    {
      "cell_type": "markdown",
      "source": [
        "# **Desafío**: Adquisición de JSON desde la WEB\n",
        "> Melina Schamberger\n",
        "\n"
      ],
      "metadata": {
        "id": "dgS-uuvO7x62"
      }
    },
    {
      "cell_type": "markdown",
      "source": [
        ">> Consigna: \n",
        "\n",
        "1. Escribir un código que lea un JSON desde esta esta web api\n",
        "2. Pasarlo a un DataFrame\n"
      ],
      "metadata": {
        "id": "xTg3pFzH87cg"
      }
    },
    {
      "cell_type": "markdown",
      "source": [
        "1. Importación de librerías"
      ],
      "metadata": {
        "id": "8rwWiE7y7-qK"
      }
    },
    {
      "cell_type": "code",
      "execution_count": 1,
      "metadata": {
        "id": "cFHaoAor6dAa"
      },
      "outputs": [],
      "source": [
        "import pandas as pd\n",
        "import json as js\n",
        "import requests as rq"
      ]
    },
    {
      "cell_type": "markdown",
      "source": [
        "2. Definición a URL y conexión"
      ],
      "metadata": {
        "id": "Bu6WPvn09J95"
      }
    },
    {
      "cell_type": "code",
      "source": [
        "url = 'https://jsonplaceholder.typicode.com/users'\n",
        "respuesta = rq.get(url)\n",
        "print(respuesta)"
      ],
      "metadata": {
        "colab": {
          "base_uri": "https://localhost:8080/"
        },
        "id": "duhpGIVo9Jy4",
        "outputId": "00d84a07-0a72-40f9-8064-a1cbf2b9434d"
      },
      "execution_count": 13,
      "outputs": [
        {
          "output_type": "stream",
          "name": "stdout",
          "text": [
            "<Response [200]>\n"
          ]
        }
      ]
    },
    {
      "cell_type": "markdown",
      "source": [
        "Dado que la respuesta es 200, es posible afirmar que la conexión fue exitosa."
      ],
      "metadata": {
        "id": "f0lVLtAB9TSH"
      }
    },
    {
      "cell_type": "markdown",
      "source": [
        "3. Obtengo la información de la URL en formato string."
      ],
      "metadata": {
        "id": "21bhbLBs9dcX"
      }
    },
    {
      "cell_type": "code",
      "source": [
        "texto = respuesta.text\n",
        "js.loads(texto)\n",
        "jsondata = js.loads(texto)"
      ],
      "metadata": {
        "id": "D-GBsSIv9TBP"
      },
      "execution_count": 14,
      "outputs": []
    },
    {
      "cell_type": "markdown",
      "source": [
        "4. Convierto los datos en un dataframe"
      ],
      "metadata": {
        "id": "pLFlChyc9svg"
      }
    },
    {
      "cell_type": "code",
      "source": [
        "data = pd.DataFrame.from_dict(jsondata)\n",
        "data.head()"
      ],
      "metadata": {
        "colab": {
          "base_uri": "https://localhost:8080/",
          "height": 337
        },
        "id": "qUMGjME59xw3",
        "outputId": "026428ab-00f4-42a8-e5ae-7e0337d55953"
      },
      "execution_count": 15,
      "outputs": [
        {
          "output_type": "execute_result",
          "data": {
            "text/plain": [
              "   id              name   username                      email  \\\n",
              "0   1     Leanne Graham       Bret          Sincere@april.biz   \n",
              "1   2      Ervin Howell  Antonette          Shanna@melissa.tv   \n",
              "2   3  Clementine Bauch   Samantha         Nathan@yesenia.net   \n",
              "3   4  Patricia Lebsack   Karianne  Julianne.OConner@kory.org   \n",
              "4   5  Chelsey Dietrich     Kamren   Lucio_Hettinger@annie.ca   \n",
              "\n",
              "                                             address                  phone  \\\n",
              "0  {'street': 'Kulas Light', 'suite': 'Apt. 556',...  1-770-736-8031 x56442   \n",
              "1  {'street': 'Victor Plains', 'suite': 'Suite 87...    010-692-6593 x09125   \n",
              "2  {'street': 'Douglas Extension', 'suite': 'Suit...         1-463-123-4447   \n",
              "3  {'street': 'Hoeger Mall', 'suite': 'Apt. 692',...      493-170-9623 x156   \n",
              "4  {'street': 'Skiles Walks', 'suite': 'Suite 351...          (254)954-1289   \n",
              "\n",
              "         website                                            company  \n",
              "0  hildegard.org  {'name': 'Romaguera-Crona', 'catchPhrase': 'Mu...  \n",
              "1  anastasia.net  {'name': 'Deckow-Crist', 'catchPhrase': 'Proac...  \n",
              "2    ramiro.info  {'name': 'Romaguera-Jacobson', 'catchPhrase': ...  \n",
              "3       kale.biz  {'name': 'Robel-Corkery', 'catchPhrase': 'Mult...  \n",
              "4   demarco.info  {'name': 'Keebler LLC', 'catchPhrase': 'User-c...  "
            ],
            "text/html": [
              "\n",
              "  <div id=\"df-566b0d97-e3fa-4301-af34-c414541dcfe9\">\n",
              "    <div class=\"colab-df-container\">\n",
              "      <div>\n",
              "<style scoped>\n",
              "    .dataframe tbody tr th:only-of-type {\n",
              "        vertical-align: middle;\n",
              "    }\n",
              "\n",
              "    .dataframe tbody tr th {\n",
              "        vertical-align: top;\n",
              "    }\n",
              "\n",
              "    .dataframe thead th {\n",
              "        text-align: right;\n",
              "    }\n",
              "</style>\n",
              "<table border=\"1\" class=\"dataframe\">\n",
              "  <thead>\n",
              "    <tr style=\"text-align: right;\">\n",
              "      <th></th>\n",
              "      <th>id</th>\n",
              "      <th>name</th>\n",
              "      <th>username</th>\n",
              "      <th>email</th>\n",
              "      <th>address</th>\n",
              "      <th>phone</th>\n",
              "      <th>website</th>\n",
              "      <th>company</th>\n",
              "    </tr>\n",
              "  </thead>\n",
              "  <tbody>\n",
              "    <tr>\n",
              "      <th>0</th>\n",
              "      <td>1</td>\n",
              "      <td>Leanne Graham</td>\n",
              "      <td>Bret</td>\n",
              "      <td>Sincere@april.biz</td>\n",
              "      <td>{'street': 'Kulas Light', 'suite': 'Apt. 556',...</td>\n",
              "      <td>1-770-736-8031 x56442</td>\n",
              "      <td>hildegard.org</td>\n",
              "      <td>{'name': 'Romaguera-Crona', 'catchPhrase': 'Mu...</td>\n",
              "    </tr>\n",
              "    <tr>\n",
              "      <th>1</th>\n",
              "      <td>2</td>\n",
              "      <td>Ervin Howell</td>\n",
              "      <td>Antonette</td>\n",
              "      <td>Shanna@melissa.tv</td>\n",
              "      <td>{'street': 'Victor Plains', 'suite': 'Suite 87...</td>\n",
              "      <td>010-692-6593 x09125</td>\n",
              "      <td>anastasia.net</td>\n",
              "      <td>{'name': 'Deckow-Crist', 'catchPhrase': 'Proac...</td>\n",
              "    </tr>\n",
              "    <tr>\n",
              "      <th>2</th>\n",
              "      <td>3</td>\n",
              "      <td>Clementine Bauch</td>\n",
              "      <td>Samantha</td>\n",
              "      <td>Nathan@yesenia.net</td>\n",
              "      <td>{'street': 'Douglas Extension', 'suite': 'Suit...</td>\n",
              "      <td>1-463-123-4447</td>\n",
              "      <td>ramiro.info</td>\n",
              "      <td>{'name': 'Romaguera-Jacobson', 'catchPhrase': ...</td>\n",
              "    </tr>\n",
              "    <tr>\n",
              "      <th>3</th>\n",
              "      <td>4</td>\n",
              "      <td>Patricia Lebsack</td>\n",
              "      <td>Karianne</td>\n",
              "      <td>Julianne.OConner@kory.org</td>\n",
              "      <td>{'street': 'Hoeger Mall', 'suite': 'Apt. 692',...</td>\n",
              "      <td>493-170-9623 x156</td>\n",
              "      <td>kale.biz</td>\n",
              "      <td>{'name': 'Robel-Corkery', 'catchPhrase': 'Mult...</td>\n",
              "    </tr>\n",
              "    <tr>\n",
              "      <th>4</th>\n",
              "      <td>5</td>\n",
              "      <td>Chelsey Dietrich</td>\n",
              "      <td>Kamren</td>\n",
              "      <td>Lucio_Hettinger@annie.ca</td>\n",
              "      <td>{'street': 'Skiles Walks', 'suite': 'Suite 351...</td>\n",
              "      <td>(254)954-1289</td>\n",
              "      <td>demarco.info</td>\n",
              "      <td>{'name': 'Keebler LLC', 'catchPhrase': 'User-c...</td>\n",
              "    </tr>\n",
              "  </tbody>\n",
              "</table>\n",
              "</div>\n",
              "      <button class=\"colab-df-convert\" onclick=\"convertToInteractive('df-566b0d97-e3fa-4301-af34-c414541dcfe9')\"\n",
              "              title=\"Convert this dataframe to an interactive table.\"\n",
              "              style=\"display:none;\">\n",
              "        \n",
              "  <svg xmlns=\"http://www.w3.org/2000/svg\" height=\"24px\"viewBox=\"0 0 24 24\"\n",
              "       width=\"24px\">\n",
              "    <path d=\"M0 0h24v24H0V0z\" fill=\"none\"/>\n",
              "    <path d=\"M18.56 5.44l.94 2.06.94-2.06 2.06-.94-2.06-.94-.94-2.06-.94 2.06-2.06.94zm-11 1L8.5 8.5l.94-2.06 2.06-.94-2.06-.94L8.5 2.5l-.94 2.06-2.06.94zm10 10l.94 2.06.94-2.06 2.06-.94-2.06-.94-.94-2.06-.94 2.06-2.06.94z\"/><path d=\"M17.41 7.96l-1.37-1.37c-.4-.4-.92-.59-1.43-.59-.52 0-1.04.2-1.43.59L10.3 9.45l-7.72 7.72c-.78.78-.78 2.05 0 2.83L4 21.41c.39.39.9.59 1.41.59.51 0 1.02-.2 1.41-.59l7.78-7.78 2.81-2.81c.8-.78.8-2.07 0-2.86zM5.41 20L4 18.59l7.72-7.72 1.47 1.35L5.41 20z\"/>\n",
              "  </svg>\n",
              "      </button>\n",
              "      \n",
              "  <style>\n",
              "    .colab-df-container {\n",
              "      display:flex;\n",
              "      flex-wrap:wrap;\n",
              "      gap: 12px;\n",
              "    }\n",
              "\n",
              "    .colab-df-convert {\n",
              "      background-color: #E8F0FE;\n",
              "      border: none;\n",
              "      border-radius: 50%;\n",
              "      cursor: pointer;\n",
              "      display: none;\n",
              "      fill: #1967D2;\n",
              "      height: 32px;\n",
              "      padding: 0 0 0 0;\n",
              "      width: 32px;\n",
              "    }\n",
              "\n",
              "    .colab-df-convert:hover {\n",
              "      background-color: #E2EBFA;\n",
              "      box-shadow: 0px 1px 2px rgba(60, 64, 67, 0.3), 0px 1px 3px 1px rgba(60, 64, 67, 0.15);\n",
              "      fill: #174EA6;\n",
              "    }\n",
              "\n",
              "    [theme=dark] .colab-df-convert {\n",
              "      background-color: #3B4455;\n",
              "      fill: #D2E3FC;\n",
              "    }\n",
              "\n",
              "    [theme=dark] .colab-df-convert:hover {\n",
              "      background-color: #434B5C;\n",
              "      box-shadow: 0px 1px 3px 1px rgba(0, 0, 0, 0.15);\n",
              "      filter: drop-shadow(0px 1px 2px rgba(0, 0, 0, 0.3));\n",
              "      fill: #FFFFFF;\n",
              "    }\n",
              "  </style>\n",
              "\n",
              "      <script>\n",
              "        const buttonEl =\n",
              "          document.querySelector('#df-566b0d97-e3fa-4301-af34-c414541dcfe9 button.colab-df-convert');\n",
              "        buttonEl.style.display =\n",
              "          google.colab.kernel.accessAllowed ? 'block' : 'none';\n",
              "\n",
              "        async function convertToInteractive(key) {\n",
              "          const element = document.querySelector('#df-566b0d97-e3fa-4301-af34-c414541dcfe9');\n",
              "          const dataTable =\n",
              "            await google.colab.kernel.invokeFunction('convertToInteractive',\n",
              "                                                     [key], {});\n",
              "          if (!dataTable) return;\n",
              "\n",
              "          const docLinkHtml = 'Like what you see? Visit the ' +\n",
              "            '<a target=\"_blank\" href=https://colab.research.google.com/notebooks/data_table.ipynb>data table notebook</a>'\n",
              "            + ' to learn more about interactive tables.';\n",
              "          element.innerHTML = '';\n",
              "          dataTable['output_type'] = 'display_data';\n",
              "          await google.colab.output.renderOutput(dataTable, element);\n",
              "          const docLink = document.createElement('div');\n",
              "          docLink.innerHTML = docLinkHtml;\n",
              "          element.appendChild(docLink);\n",
              "        }\n",
              "      </script>\n",
              "    </div>\n",
              "  </div>\n",
              "  "
            ]
          },
          "metadata": {},
          "execution_count": 15
        }
      ]
    }
  ]
}