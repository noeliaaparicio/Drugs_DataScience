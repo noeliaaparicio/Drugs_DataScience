{
  "nbformat": 4,
  "nbformat_minor": 0,
  "metadata": {
    "colab": {
      "provenance": []
    },
    "kernelspec": {
      "name": "python3",
      "display_name": "Python 3"
    },
    "language_info": {
      "name": "python"
    }
  },
  "cells": [
    {
      "cell_type": "markdown",
      "source": [
        "# **Tercera entrega del proyecto final**\n",
        "\n",
        "Grupo 8: Noelia Aparicio, Melina Schamberger y Natasha Siderman"
      ],
      "metadata": {
        "id": "fsrTYZ7-NPnO"
      }
    },
    {
      "cell_type": "markdown",
      "source": [
        "**Contexto**\n",
        "\n",
        "- Una empresa de medicina prepaga provee de forma gratuita las **drogas A, B, C, X e Y** para sus afiliados.\n",
        "\n",
        "- Cada una de esas drogas se receta para distintos tipos de padecimientos y tienen distintos costos para la empresa.\n",
        "\n",
        "- La empresa quiere entender **para qué padecimiento los médicos recetan cada droga**, a fin de estimar costos a la hora de aceptar a un nuevo afiliado.\n",
        "\n",
        "- Cuenta con datos de 200 afiliados a quienes se les recetaron alguna de las 5 drogas.\n",
        "\n",
        "- Los datos de los que dispone de esos pacientes son: *edad, sexo, presión arterial, colesterol, proporción de sodio sobre potasio y droga recetada*.\n"
      ],
      "metadata": {
        "id": "7Y7CfJpwNa08"
      }
    },
    {
      "cell_type": "markdown",
      "source": [
        "## 1. Análisis exploratorio\n",
        "\n",
        "Con el análisis exploratorio del set de datos se buscará indagar la distribución de las variables y la relación que pueda existir entre las mismas. "
      ],
      "metadata": {
        "id": "yTtvaUmx65Jo"
      }
    },
    {
      "cell_type": "markdown",
      "source": [
        "### 0. Carga de librerías"
      ],
      "metadata": {
        "id": "kzsVzbO3686u"
      }
    },
    {
      "cell_type": "code",
      "source": [
        "import numpy as np \n",
        "import pandas as pd\n",
        "import requests\n",
        "from matplotlib import pyplot as plt\n",
        "plt.style.use('ggplot')\n",
        "import seaborn as sns\n",
        "%matplotlib inline\n",
        "from sklearn.neighbors import KNeighborsClassifier\n",
        "from sklearn.linear_model import LogisticRegression\n",
        "import urllib.request\n",
        "from sklearn.model_selection import train_test_split\n",
        "from sklearn.ensemble import RandomForestClassifier\n",
        "from sklearn.tree import DecisionTreeClassifier\n",
        "from sklearn import datasets\n",
        "from sklearn.metrics import accuracy_score\n",
        "from sklearn.model_selection import cross_val_score\n",
        "from sklearn.neighbors import KNeighborsClassifier\n",
        "from sklearn.ensemble import RandomForestClassifier\n",
        "from sklearn.svm import SVC\n",
        "from sklearn.model_selection import GridSearchCV\n",
        "from sklearn.cluster import KMeans\n",
        "from sklearn.metrics import davies_bouldin_score,silhouette_score,silhouette_samples,calinski_harabasz_score\n",
        "from sklearn.preprocessing import StandardScaler\n",
        "\n",
        "import matplotlib.pyplot as plt\n",
        "import matplotlib.cm as cm\n",
        "\n",
        "import warnings\n",
        "warnings.filterwarnings(\"ignore\")\n",
        "%matplotlib inline\n",
        "\n",
        "from sklearn.model_selection import train_test_split\n",
        "import xgboost as xgb\n",
        "from sklearn.metrics import mean_squared_error\n",
        "from sklearn.metrics import accuracy_score\n",
        "from sklearn.model_selection import GridSearchCV\n",
        "from sklearn.model_selection import RandomizedSearchCV\n",
        "from sklearn.experimental import enable_halving_search_cv\n",
        "from sklearn.model_selection import HalvingGridSearchCV\n",
        "from sklearn.model_selection import HalvingRandomSearchCV"
      ],
      "metadata": {
        "id": "uBorf6ivs74Q"
      },
      "execution_count": null,
      "outputs": []
    },
    {
      "cell_type": "markdown",
      "source": [
        "### 1. Carga de datos"
      ],
      "metadata": {
        "id": "sQo7Ys888otA"
      }
    },
    {
      "cell_type": "code",
      "source": [
        "df = pd.read_csv('drug200.csv')"
      ],
      "metadata": {
        "id": "kDEdhxA8nFpm"
      },
      "execution_count": null,
      "outputs": []
    },
    {
      "cell_type": "markdown",
      "source": [
        "### 2. Aproximación a los datos"
      ],
      "metadata": {
        "id": "vp5sNkaa9O5S"
      }
    },
    {
      "cell_type": "markdown",
      "source": [
        "Para comenzar, visualizamos las primeras filas del dataset:"
      ],
      "metadata": {
        "id": "T8KDHaPS9o59"
      }
    },
    {
      "cell_type": "code",
      "source": [
        "df.head()"
      ],
      "metadata": {
        "colab": {
          "base_uri": "https://localhost:8080/",
          "height": 206
        },
        "id": "G5nlnhgupbN6",
        "outputId": "ba610a0c-91a5-437e-dc84-b93688dddebd"
      },
      "execution_count": null,
      "outputs": [
        {
          "output_type": "execute_result",
          "data": {
            "text/plain": [
              "   Age Sex      BP Cholesterol  Na_to_K   Drug\n",
              "0   23   F    HIGH        HIGH   25.355  DrugY\n",
              "1   47   M     LOW        HIGH   13.093  drugC\n",
              "2   47   M     LOW        HIGH   10.114  drugC\n",
              "3   28   F  NORMAL        HIGH    7.798  drugX\n",
              "4   61   F     LOW        HIGH   18.043  DrugY"
            ],
            "text/html": [
              "\n",
              "  <div id=\"df-8c5f0e25-e640-4054-96a5-c6927f138ba7\">\n",
              "    <div class=\"colab-df-container\">\n",
              "      <div>\n",
              "<style scoped>\n",
              "    .dataframe tbody tr th:only-of-type {\n",
              "        vertical-align: middle;\n",
              "    }\n",
              "\n",
              "    .dataframe tbody tr th {\n",
              "        vertical-align: top;\n",
              "    }\n",
              "\n",
              "    .dataframe thead th {\n",
              "        text-align: right;\n",
              "    }\n",
              "</style>\n",
              "<table border=\"1\" class=\"dataframe\">\n",
              "  <thead>\n",
              "    <tr style=\"text-align: right;\">\n",
              "      <th></th>\n",
              "      <th>Age</th>\n",
              "      <th>Sex</th>\n",
              "      <th>BP</th>\n",
              "      <th>Cholesterol</th>\n",
              "      <th>Na_to_K</th>\n",
              "      <th>Drug</th>\n",
              "    </tr>\n",
              "  </thead>\n",
              "  <tbody>\n",
              "    <tr>\n",
              "      <th>0</th>\n",
              "      <td>23</td>\n",
              "      <td>F</td>\n",
              "      <td>HIGH</td>\n",
              "      <td>HIGH</td>\n",
              "      <td>25.355</td>\n",
              "      <td>DrugY</td>\n",
              "    </tr>\n",
              "    <tr>\n",
              "      <th>1</th>\n",
              "      <td>47</td>\n",
              "      <td>M</td>\n",
              "      <td>LOW</td>\n",
              "      <td>HIGH</td>\n",
              "      <td>13.093</td>\n",
              "      <td>drugC</td>\n",
              "    </tr>\n",
              "    <tr>\n",
              "      <th>2</th>\n",
              "      <td>47</td>\n",
              "      <td>M</td>\n",
              "      <td>LOW</td>\n",
              "      <td>HIGH</td>\n",
              "      <td>10.114</td>\n",
              "      <td>drugC</td>\n",
              "    </tr>\n",
              "    <tr>\n",
              "      <th>3</th>\n",
              "      <td>28</td>\n",
              "      <td>F</td>\n",
              "      <td>NORMAL</td>\n",
              "      <td>HIGH</td>\n",
              "      <td>7.798</td>\n",
              "      <td>drugX</td>\n",
              "    </tr>\n",
              "    <tr>\n",
              "      <th>4</th>\n",
              "      <td>61</td>\n",
              "      <td>F</td>\n",
              "      <td>LOW</td>\n",
              "      <td>HIGH</td>\n",
              "      <td>18.043</td>\n",
              "      <td>DrugY</td>\n",
              "    </tr>\n",
              "  </tbody>\n",
              "</table>\n",
              "</div>\n",
              "      <button class=\"colab-df-convert\" onclick=\"convertToInteractive('df-8c5f0e25-e640-4054-96a5-c6927f138ba7')\"\n",
              "              title=\"Convert this dataframe to an interactive table.\"\n",
              "              style=\"display:none;\">\n",
              "        \n",
              "  <svg xmlns=\"http://www.w3.org/2000/svg\" height=\"24px\"viewBox=\"0 0 24 24\"\n",
              "       width=\"24px\">\n",
              "    <path d=\"M0 0h24v24H0V0z\" fill=\"none\"/>\n",
              "    <path d=\"M18.56 5.44l.94 2.06.94-2.06 2.06-.94-2.06-.94-.94-2.06-.94 2.06-2.06.94zm-11 1L8.5 8.5l.94-2.06 2.06-.94-2.06-.94L8.5 2.5l-.94 2.06-2.06.94zm10 10l.94 2.06.94-2.06 2.06-.94-2.06-.94-.94-2.06-.94 2.06-2.06.94z\"/><path d=\"M17.41 7.96l-1.37-1.37c-.4-.4-.92-.59-1.43-.59-.52 0-1.04.2-1.43.59L10.3 9.45l-7.72 7.72c-.78.78-.78 2.05 0 2.83L4 21.41c.39.39.9.59 1.41.59.51 0 1.02-.2 1.41-.59l7.78-7.78 2.81-2.81c.8-.78.8-2.07 0-2.86zM5.41 20L4 18.59l7.72-7.72 1.47 1.35L5.41 20z\"/>\n",
              "  </svg>\n",
              "      </button>\n",
              "      \n",
              "  <style>\n",
              "    .colab-df-container {\n",
              "      display:flex;\n",
              "      flex-wrap:wrap;\n",
              "      gap: 12px;\n",
              "    }\n",
              "\n",
              "    .colab-df-convert {\n",
              "      background-color: #E8F0FE;\n",
              "      border: none;\n",
              "      border-radius: 50%;\n",
              "      cursor: pointer;\n",
              "      display: none;\n",
              "      fill: #1967D2;\n",
              "      height: 32px;\n",
              "      padding: 0 0 0 0;\n",
              "      width: 32px;\n",
              "    }\n",
              "\n",
              "    .colab-df-convert:hover {\n",
              "      background-color: #E2EBFA;\n",
              "      box-shadow: 0px 1px 2px rgba(60, 64, 67, 0.3), 0px 1px 3px 1px rgba(60, 64, 67, 0.15);\n",
              "      fill: #174EA6;\n",
              "    }\n",
              "\n",
              "    [theme=dark] .colab-df-convert {\n",
              "      background-color: #3B4455;\n",
              "      fill: #D2E3FC;\n",
              "    }\n",
              "\n",
              "    [theme=dark] .colab-df-convert:hover {\n",
              "      background-color: #434B5C;\n",
              "      box-shadow: 0px 1px 3px 1px rgba(0, 0, 0, 0.15);\n",
              "      filter: drop-shadow(0px 1px 2px rgba(0, 0, 0, 0.3));\n",
              "      fill: #FFFFFF;\n",
              "    }\n",
              "  </style>\n",
              "\n",
              "      <script>\n",
              "        const buttonEl =\n",
              "          document.querySelector('#df-8c5f0e25-e640-4054-96a5-c6927f138ba7 button.colab-df-convert');\n",
              "        buttonEl.style.display =\n",
              "          google.colab.kernel.accessAllowed ? 'block' : 'none';\n",
              "\n",
              "        async function convertToInteractive(key) {\n",
              "          const element = document.querySelector('#df-8c5f0e25-e640-4054-96a5-c6927f138ba7');\n",
              "          const dataTable =\n",
              "            await google.colab.kernel.invokeFunction('convertToInteractive',\n",
              "                                                     [key], {});\n",
              "          if (!dataTable) return;\n",
              "\n",
              "          const docLinkHtml = 'Like what you see? Visit the ' +\n",
              "            '<a target=\"_blank\" href=https://colab.research.google.com/notebooks/data_table.ipynb>data table notebook</a>'\n",
              "            + ' to learn more about interactive tables.';\n",
              "          element.innerHTML = '';\n",
              "          dataTable['output_type'] = 'display_data';\n",
              "          await google.colab.output.renderOutput(dataTable, element);\n",
              "          const docLink = document.createElement('div');\n",
              "          docLink.innerHTML = docLinkHtml;\n",
              "          element.appendChild(docLink);\n",
              "        }\n",
              "      </script>\n",
              "    </div>\n",
              "  </div>\n",
              "  "
            ]
          },
          "metadata": {},
          "execution_count": 3
        }
      ]
    },
    {
      "cell_type": "markdown",
      "source": [
        "Luego analizamos su estructura:"
      ],
      "metadata": {
        "id": "TgcMzQIJ-FIc"
      }
    },
    {
      "cell_type": "code",
      "source": [
        "df.info()"
      ],
      "metadata": {
        "colab": {
          "base_uri": "https://localhost:8080/"
        },
        "id": "JArDSwZVnOMt",
        "outputId": "ba46ba11-2cfa-434c-8666-b062d9e91fa9"
      },
      "execution_count": null,
      "outputs": [
        {
          "output_type": "stream",
          "name": "stdout",
          "text": [
            "<class 'pandas.core.frame.DataFrame'>\n",
            "RangeIndex: 200 entries, 0 to 199\n",
            "Data columns (total 6 columns):\n",
            " #   Column       Non-Null Count  Dtype  \n",
            "---  ------       --------------  -----  \n",
            " 0   Age          200 non-null    int64  \n",
            " 1   Sex          200 non-null    object \n",
            " 2   BP           200 non-null    object \n",
            " 3   Cholesterol  200 non-null    object \n",
            " 4   Na_to_K      200 non-null    float64\n",
            " 5   Drug         200 non-null    object \n",
            "dtypes: float64(1), int64(1), object(4)\n",
            "memory usage: 9.5+ KB\n"
          ]
        }
      ]
    },
    {
      "cell_type": "code",
      "source": [
        "print('Este data set tiene ' + str(df.shape[0]) + ' filas, y ' + str(df.shape[1]) + ' columnas')"
      ],
      "metadata": {
        "colab": {
          "base_uri": "https://localhost:8080/"
        },
        "id": "wJfZxnBc-blu",
        "outputId": "11184e49-989b-403b-88f8-aa5105122f6b"
      },
      "execution_count": null,
      "outputs": [
        {
          "output_type": "stream",
          "name": "stdout",
          "text": [
            "Este data set tiene 200 filas, y 6 columnas\n"
          ]
        }
      ]
    },
    {
      "cell_type": "markdown",
      "source": [
        "Como indica el print, el dataset contiene 200 filas y 6 columnas: \n",
        "\n",
        "**Age** --> Tipo número entero\n",
        "\n",
        "**Sex** --> Tipo objeto\n",
        "\n",
        "**BP** --> Tipo objeto\n",
        "\n",
        "**Cholesterol** --> Tipo objeto\n",
        "\n",
        "**Na_to_K** --> Tipo número decimal\n",
        "\n",
        "**Drug **--> Tipo objeto\n",
        "\n"
      ],
      "metadata": {
        "id": "Dnm9Z4_hntx5"
      }
    },
    {
      "cell_type": "markdown",
      "source": [
        "### 3. Missing values"
      ],
      "metadata": {
        "id": "3oeTmJRp-huZ"
      }
    },
    {
      "cell_type": "markdown",
      "source": [
        "Chequeamos que el df no tenga valores perdidos: "
      ],
      "metadata": {
        "id": "paLrEYmV-kCt"
      }
    },
    {
      "cell_type": "code",
      "source": [
        "df.isnull().sum()"
      ],
      "metadata": {
        "colab": {
          "base_uri": "https://localhost:8080/"
        },
        "id": "8mON7b4W-jgE",
        "outputId": "23c4a98a-b2b0-4f9d-b066-4ac61b92f87d"
      },
      "execution_count": null,
      "outputs": [
        {
          "output_type": "execute_result",
          "data": {
            "text/plain": [
              "Age            0\n",
              "Sex            0\n",
              "BP             0\n",
              "Cholesterol    0\n",
              "Na_to_K        0\n",
              "Drug           0\n",
              "dtype: int64"
            ]
          },
          "metadata": {},
          "execution_count": 6
        }
      ]
    },
    {
      "cell_type": "markdown",
      "source": [
        "### 4. Análisis univariado"
      ],
      "metadata": {
        "id": "TP3u-_0u4xEp"
      }
    },
    {
      "cell_type": "markdown",
      "source": [
        "En principio, realizaremos un primer análisis exploratorio con estadísticos descriptivos de las dos **variables numéricas**:"
      ],
      "metadata": {
        "id": "p8AIpMyt--AP"
      }
    },
    {
      "cell_type": "code",
      "source": [
        "df.describe().T"
      ],
      "metadata": {
        "colab": {
          "base_uri": "https://localhost:8080/",
          "height": 112
        },
        "id": "dQVtZRsppAvA",
        "outputId": "d0d06b8c-7570-44f8-ce48-f1f271326886"
      },
      "execution_count": null,
      "outputs": [
        {
          "output_type": "execute_result",
          "data": {
            "text/plain": [
              "         count       mean        std     min      25%      50%    75%     max\n",
              "Age      200.0  44.315000  16.544315  15.000  31.0000  45.0000  58.00  74.000\n",
              "Na_to_K  200.0  16.084485   7.223956   6.269  10.4455  13.9365  19.38  38.247"
            ],
            "text/html": [
              "\n",
              "  <div id=\"df-49514a52-8b59-4f9f-8b76-e0692c0c20b4\">\n",
              "    <div class=\"colab-df-container\">\n",
              "      <div>\n",
              "<style scoped>\n",
              "    .dataframe tbody tr th:only-of-type {\n",
              "        vertical-align: middle;\n",
              "    }\n",
              "\n",
              "    .dataframe tbody tr th {\n",
              "        vertical-align: top;\n",
              "    }\n",
              "\n",
              "    .dataframe thead th {\n",
              "        text-align: right;\n",
              "    }\n",
              "</style>\n",
              "<table border=\"1\" class=\"dataframe\">\n",
              "  <thead>\n",
              "    <tr style=\"text-align: right;\">\n",
              "      <th></th>\n",
              "      <th>count</th>\n",
              "      <th>mean</th>\n",
              "      <th>std</th>\n",
              "      <th>min</th>\n",
              "      <th>25%</th>\n",
              "      <th>50%</th>\n",
              "      <th>75%</th>\n",
              "      <th>max</th>\n",
              "    </tr>\n",
              "  </thead>\n",
              "  <tbody>\n",
              "    <tr>\n",
              "      <th>Age</th>\n",
              "      <td>200.0</td>\n",
              "      <td>44.315000</td>\n",
              "      <td>16.544315</td>\n",
              "      <td>15.000</td>\n",
              "      <td>31.0000</td>\n",
              "      <td>45.0000</td>\n",
              "      <td>58.00</td>\n",
              "      <td>74.000</td>\n",
              "    </tr>\n",
              "    <tr>\n",
              "      <th>Na_to_K</th>\n",
              "      <td>200.0</td>\n",
              "      <td>16.084485</td>\n",
              "      <td>7.223956</td>\n",
              "      <td>6.269</td>\n",
              "      <td>10.4455</td>\n",
              "      <td>13.9365</td>\n",
              "      <td>19.38</td>\n",
              "      <td>38.247</td>\n",
              "    </tr>\n",
              "  </tbody>\n",
              "</table>\n",
              "</div>\n",
              "      <button class=\"colab-df-convert\" onclick=\"convertToInteractive('df-49514a52-8b59-4f9f-8b76-e0692c0c20b4')\"\n",
              "              title=\"Convert this dataframe to an interactive table.\"\n",
              "              style=\"display:none;\">\n",
              "        \n",
              "  <svg xmlns=\"http://www.w3.org/2000/svg\" height=\"24px\"viewBox=\"0 0 24 24\"\n",
              "       width=\"24px\">\n",
              "    <path d=\"M0 0h24v24H0V0z\" fill=\"none\"/>\n",
              "    <path d=\"M18.56 5.44l.94 2.06.94-2.06 2.06-.94-2.06-.94-.94-2.06-.94 2.06-2.06.94zm-11 1L8.5 8.5l.94-2.06 2.06-.94-2.06-.94L8.5 2.5l-.94 2.06-2.06.94zm10 10l.94 2.06.94-2.06 2.06-.94-2.06-.94-.94-2.06-.94 2.06-2.06.94z\"/><path d=\"M17.41 7.96l-1.37-1.37c-.4-.4-.92-.59-1.43-.59-.52 0-1.04.2-1.43.59L10.3 9.45l-7.72 7.72c-.78.78-.78 2.05 0 2.83L4 21.41c.39.39.9.59 1.41.59.51 0 1.02-.2 1.41-.59l7.78-7.78 2.81-2.81c.8-.78.8-2.07 0-2.86zM5.41 20L4 18.59l7.72-7.72 1.47 1.35L5.41 20z\"/>\n",
              "  </svg>\n",
              "      </button>\n",
              "      \n",
              "  <style>\n",
              "    .colab-df-container {\n",
              "      display:flex;\n",
              "      flex-wrap:wrap;\n",
              "      gap: 12px;\n",
              "    }\n",
              "\n",
              "    .colab-df-convert {\n",
              "      background-color: #E8F0FE;\n",
              "      border: none;\n",
              "      border-radius: 50%;\n",
              "      cursor: pointer;\n",
              "      display: none;\n",
              "      fill: #1967D2;\n",
              "      height: 32px;\n",
              "      padding: 0 0 0 0;\n",
              "      width: 32px;\n",
              "    }\n",
              "\n",
              "    .colab-df-convert:hover {\n",
              "      background-color: #E2EBFA;\n",
              "      box-shadow: 0px 1px 2px rgba(60, 64, 67, 0.3), 0px 1px 3px 1px rgba(60, 64, 67, 0.15);\n",
              "      fill: #174EA6;\n",
              "    }\n",
              "\n",
              "    [theme=dark] .colab-df-convert {\n",
              "      background-color: #3B4455;\n",
              "      fill: #D2E3FC;\n",
              "    }\n",
              "\n",
              "    [theme=dark] .colab-df-convert:hover {\n",
              "      background-color: #434B5C;\n",
              "      box-shadow: 0px 1px 3px 1px rgba(0, 0, 0, 0.15);\n",
              "      filter: drop-shadow(0px 1px 2px rgba(0, 0, 0, 0.3));\n",
              "      fill: #FFFFFF;\n",
              "    }\n",
              "  </style>\n",
              "\n",
              "      <script>\n",
              "        const buttonEl =\n",
              "          document.querySelector('#df-49514a52-8b59-4f9f-8b76-e0692c0c20b4 button.colab-df-convert');\n",
              "        buttonEl.style.display =\n",
              "          google.colab.kernel.accessAllowed ? 'block' : 'none';\n",
              "\n",
              "        async function convertToInteractive(key) {\n",
              "          const element = document.querySelector('#df-49514a52-8b59-4f9f-8b76-e0692c0c20b4');\n",
              "          const dataTable =\n",
              "            await google.colab.kernel.invokeFunction('convertToInteractive',\n",
              "                                                     [key], {});\n",
              "          if (!dataTable) return;\n",
              "\n",
              "          const docLinkHtml = 'Like what you see? Visit the ' +\n",
              "            '<a target=\"_blank\" href=https://colab.research.google.com/notebooks/data_table.ipynb>data table notebook</a>'\n",
              "            + ' to learn more about interactive tables.';\n",
              "          element.innerHTML = '';\n",
              "          dataTable['output_type'] = 'display_data';\n",
              "          await google.colab.output.renderOutput(dataTable, element);\n",
              "          const docLink = document.createElement('div');\n",
              "          docLink.innerHTML = docLinkHtml;\n",
              "          element.appendChild(docLink);\n",
              "        }\n",
              "      </script>\n",
              "    </div>\n",
              "  </div>\n",
              "  "
            ]
          },
          "metadata": {},
          "execution_count": 7
        }
      ]
    },
    {
      "cell_type": "markdown",
      "source": [
        "De las métricas obtenidas, se desprende que: \n",
        "\n",
        "**Edad**\n",
        "\n",
        "- La media de edad de los pacientes es 44.\n",
        "\n",
        "- El desvío estandar es de 16,5.\n",
        "\n",
        "- La edad mínima es 15.\n",
        "\n",
        "- La edad máxima es 74.\n",
        "\n",
        "- El corte de edad del primer cuartil es 15.\n",
        "\n",
        "- El corte de edad del segundo cuartil es 45.\n",
        "\n",
        "- El corte de edad del tercer cuartil es 58.\n",
        "\n",
        "**Proporción de sodio a potasio**\n",
        "\n",
        "- El promedio de la proporción de sodio a potasio es 16.\n",
        "\n",
        "- El desvío estandar es de 7,2.\n",
        "\n",
        "- La proporción mínima es de 6,3.\n",
        "\n",
        "- La proporción máxima es de 38,2.\n",
        "\n",
        "- El corte de la proporción del primer cuartil es 10,4.\n",
        "\n",
        "- El corte de la proporción del segundo cuartil es 13,9.\n",
        "\n",
        "- El corte de la proporción del tercer cuartil es 19,4."
      ],
      "metadata": {
        "id": "AWi5VrzcpSOo"
      }
    },
    {
      "cell_type": "markdown",
      "source": [
        "Se observa la distribución de las edades mediante un gráfico: "
      ],
      "metadata": {
        "id": "PUOMBd3Q_lPT"
      }
    },
    {
      "cell_type": "code",
      "source": [
        "plt.figure(figsize = (9,5))\n",
        "df['Age'].hist();"
      ],
      "metadata": {
        "colab": {
          "base_uri": "https://localhost:8080/",
          "height": 320
        },
        "id": "g87aXooPrMTg",
        "outputId": "04a65c0d-3a86-43db-d919-8c3f3a5fa872"
      },
      "execution_count": null,
      "outputs": [
        {
          "output_type": "display_data",
          "data": {
            "text/plain": [
              "<Figure size 648x360 with 1 Axes>"
            ],
            "image/png": "[encoded data removed]"
          },
          "metadata": {
            "needs_background": "light"
          }
        }
      ]
    },
    {
      "cell_type": "markdown",
      "source": [
        "Se observa la distribución de la proporción de sodio visualmente:"
      ],
      "metadata": {
        "id": "uTqlSKPFAPzc"
      }
    },
    {
      "cell_type": "code",
      "source": [
        "plt.figure(figsize = (9,5))\n",
        "df['Na_to_K'].hist();"
      ],
      "metadata": {
        "colab": {
          "base_uri": "https://localhost:8080/",
          "height": 320
        },
        "id": "ihVl9Fc5AJ-o",
        "outputId": "eaa82513-cded-444a-856c-5b7defc3f677"
      },
      "execution_count": null,
      "outputs": [
        {
          "output_type": "display_data",
          "data": {
            "text/plain": [
              "<Figure size 648x360 with 1 Axes>"
            ],
            "image/png": "[encoded data removed]"
          },
          "metadata": {
            "needs_background": "light"
          }
        }
      ]
    },
    {
      "cell_type": "markdown",
      "source": [
        "Seguidamente, pasamos a explorar las **variables categóricas**: "
      ],
      "metadata": {
        "id": "Ni1ygHivAWm0"
      }
    },
    {
      "cell_type": "markdown",
      "source": [
        "En principio, indagamos la composición de la muestra según **sexo**: "
      ],
      "metadata": {
        "id": "Mh0eqHAMAacB"
      }
    },
    {
      "cell_type": "code",
      "source": [
        "df.Sex.value_counts()"
      ],
      "metadata": {
        "colab": {
          "base_uri": "https://localhost:8080/"
        },
        "id": "sqXN2pxDtkod",
        "outputId": "fba754dc-59fb-40bb-a2bc-1c03e6730243"
      },
      "execution_count": null,
      "outputs": [
        {
          "output_type": "execute_result",
          "data": {
            "text/plain": [
              "M    104\n",
              "F     96\n",
              "Name: Sex, dtype: int64"
            ]
          },
          "metadata": {},
          "execution_count": 11
        }
      ]
    },
    {
      "cell_type": "markdown",
      "source": [
        "La muestra cuenta con 104 pacientes masculinos y 96 pacuentes femeninas."
      ],
      "metadata": {
        "id": "oQuX9Z1Stw3G"
      }
    },
    {
      "cell_type": "markdown",
      "source": [
        "Graficamos la distribución de sexo en la muestra:\n"
      ],
      "metadata": {
        "id": "NLcBCgQPAh6t"
      }
    },
    {
      "cell_type": "code",
      "source": [
        "plt.figure(figsize=(9,5))\n",
        "sns.countplot(x = df.Sex)\n",
        "plt.show()"
      ],
      "metadata": {
        "colab": {
          "base_uri": "https://localhost:8080/",
          "height": 337
        },
        "id": "G-26a4RZt42J",
        "outputId": "961d2fdb-d5cd-48bc-9ab9-586dd7bd4678"
      },
      "execution_count": null,
      "outputs": [
        {
          "output_type": "display_data",
          "data": {
            "text/plain": [
              "<Figure size 648x360 with 1 Axes>"
            ],
            "image/png": "[encoded data removed]"
          },
          "metadata": {
            "needs_background": "light"
          }
        }
      ]
    },
    {
      "cell_type": "markdown",
      "source": [
        "Podemos observar que la presencia de hombres es mayor, respecto a la de mujeres. "
      ],
      "metadata": {
        "id": "ov9Ip_VTAs5-"
      }
    },
    {
      "cell_type": "markdown",
      "source": [
        "Seguidamente, analizamos la composición de la muestra según **presión arterial**: "
      ],
      "metadata": {
        "id": "yZ3l-d9DAyKV"
      }
    },
    {
      "cell_type": "code",
      "source": [
        "df.BP.value_counts()"
      ],
      "metadata": {
        "colab": {
          "base_uri": "https://localhost:8080/"
        },
        "id": "m4AkRPpdul0_",
        "outputId": "06d32ef6-8d6b-4624-fdad-2e6288382589"
      },
      "execution_count": null,
      "outputs": [
        {
          "output_type": "execute_result",
          "data": {
            "text/plain": [
              "HIGH      77\n",
              "LOW       64\n",
              "NORMAL    59\n",
              "Name: BP, dtype: int64"
            ]
          },
          "metadata": {},
          "execution_count": 9
        }
      ]
    },
    {
      "cell_type": "markdown",
      "source": [
        "La mayoría de los pacientes tienen presión arterial alta, seguido de baja y la minoría, normal."
      ],
      "metadata": {
        "id": "aXSKZQHsuuPC"
      }
    },
    {
      "cell_type": "markdown",
      "source": [
        "Graficamos la distribución de presión arterial en la muestra:\n"
      ],
      "metadata": {
        "id": "vW_Ydw_DBktC"
      }
    },
    {
      "cell_type": "code",
      "source": [
        "plt.figure(figsize=(9,5))\n",
        "sns.countplot(x = df.BP)\n",
        "plt.show()"
      ],
      "metadata": {
        "colab": {
          "base_uri": "https://localhost:8080/",
          "height": 338
        },
        "id": "kzUbOD5wu0mR",
        "outputId": "baebc1ae-be8c-4128-e31a-03e2758bf772"
      },
      "execution_count": null,
      "outputs": [
        {
          "output_type": "display_data",
          "data": {
            "text/plain": [
              "<Figure size 648x360 with 1 Axes>"
            ],
            "image/png": "[encoded data removed]"
          },
          "metadata": {
            "needs_background": "light"
          }
        }
      ]
    },
    {
      "cell_type": "markdown",
      "source": [
        "Avanzando con el análisis univariado, analizamos la composición de la muestra según **colesterol**:"
      ],
      "metadata": {
        "id": "xa0itaOfBvi0"
      }
    },
    {
      "cell_type": "code",
      "source": [
        "df.Cholesterol.value_counts()"
      ],
      "metadata": {
        "colab": {
          "base_uri": "https://localhost:8080/"
        },
        "id": "_eIo3fbXvFNZ",
        "outputId": "f3a72d5d-8a69-480e-d982-6375e973cdfb"
      },
      "execution_count": null,
      "outputs": [
        {
          "output_type": "execute_result",
          "data": {
            "text/plain": [
              "HIGH      103\n",
              "NORMAL     97\n",
              "Name: Cholesterol, dtype: int64"
            ]
          },
          "metadata": {},
          "execution_count": 14
        }
      ]
    },
    {
      "cell_type": "markdown",
      "source": [
        "La mayoría de los pacientes tiene colesterol alto."
      ],
      "metadata": {
        "id": "BGG0hq21vMlC"
      }
    },
    {
      "cell_type": "markdown",
      "source": [
        "Graficamos la distribuciónb de colesterol en la muestra:"
      ],
      "metadata": {
        "id": "GfbqEaOUB4Kd"
      }
    },
    {
      "cell_type": "code",
      "source": [
        "plt.figure(figsize=(9,5))\n",
        "sns.countplot(x = df.Cholesterol)\n",
        "plt.show()"
      ],
      "metadata": {
        "colab": {
          "base_uri": "https://localhost:8080/",
          "height": 337
        },
        "id": "iHthme96vQLI",
        "outputId": "d6044c75-cc4b-4dfc-f7d7-624ea6bdf52e"
      },
      "execution_count": null,
      "outputs": [
        {
          "output_type": "display_data",
          "data": {
            "text/plain": [
              "<Figure size 648x360 with 1 Axes>"
            ],
            "image/png": "[encoded data removed]"
          },
          "metadata": {
            "needs_background": "light"
          }
        }
      ]
    },
    {
      "cell_type": "markdown",
      "source": [
        "Finalmente, analizamos la composición de la muestra según nuestra variable de interés (variable dependiente), **droga recetada**: "
      ],
      "metadata": {
        "id": "NZNPav8bC_VC"
      }
    },
    {
      "cell_type": "code",
      "source": [
        "df.Drug.value_counts()"
      ],
      "metadata": {
        "colab": {
          "base_uri": "https://localhost:8080/"
        },
        "id": "r-4qWNHlwK2_",
        "outputId": "00cc75c1-f1e9-48f2-90ba-6f1445ec600f"
      },
      "execution_count": null,
      "outputs": [
        {
          "output_type": "execute_result",
          "data": {
            "text/plain": [
              "DrugY    91\n",
              "drugX    54\n",
              "drugA    23\n",
              "drugC    16\n",
              "drugB    16\n",
              "Name: Drug, dtype: int64"
            ]
          },
          "metadata": {},
          "execution_count": 16
        }
      ]
    },
    {
      "cell_type": "markdown",
      "source": [
        "La mayoría de los pacientes recibieron la droga Y, seguido por la X, luego por la A y la minoría, la C y la B."
      ],
      "metadata": {
        "id": "37ijUnM9wUYK"
      }
    },
    {
      "cell_type": "markdown",
      "source": [
        "Graficamos la distribución de droga recetada en la muestra:\n"
      ],
      "metadata": {
        "id": "Fsas5bp5DIA9"
      }
    },
    {
      "cell_type": "code",
      "source": [
        "plt.figure(figsize=(9,5))\n",
        "sns.countplot(x = df.Drug)\n",
        "plt.show()\n"
      ],
      "metadata": {
        "colab": {
          "base_uri": "https://localhost:8080/",
          "height": 337
        },
        "id": "JP4fd4MCwcG1",
        "outputId": "72e092df-ba61-4107-95ba-fcdf0656aaa4"
      },
      "execution_count": null,
      "outputs": [
        {
          "output_type": "display_data",
          "data": {
            "text/plain": [
              "<Figure size 648x360 with 1 Axes>"
            ],
            "image/png": "[encoded data removed]"
          },
          "metadata": {
            "needs_background": "light"
          }
        }
      ]
    },
    {
      "cell_type": "markdown",
      "source": [
        "## 2. Análisis bivariado"
      ],
      "metadata": {
        "id": "iKX3nRGOwzNq"
      }
    },
    {
      "cell_type": "markdown",
      "source": [
        "Dado que nuestra variable dependiente es droga, indagaremos su relación con cada una de las demás variables."
      ],
      "metadata": {
        "id": "yrxjszPpxf_b"
      }
    },
    {
      "cell_type": "markdown",
      "source": [
        "### Edad y droga recetada: "
      ],
      "metadata": {
        "id": "U9w_onxaHjw3"
      }
    },
    {
      "cell_type": "markdown",
      "source": [
        "Primeramente, analizamos la relación entre la variable **edad** y la variable **droga**: "
      ],
      "metadata": {
        "id": "FgLVL3qlEODK"
      }
    },
    {
      "cell_type": "code",
      "source": [
        "plt.figure(figsize=(9,5))\n",
        "sns.boxenplot(x = df['Drug'], y = df['Age'], palette = 'Set3')\n",
        "plt.title('Relacion entre Edad y Drogas', fontsize = 20, fontweight = 30)\n",
        "plt.show()"
      ],
      "metadata": {
        "colab": {
          "base_uri": "https://localhost:8080/",
          "height": 358
        },
        "id": "-JweicY8xjCN",
        "outputId": "5c8c4c6a-4ebd-43bd-f7d1-ffa8cf56f94f"
      },
      "execution_count": null,
      "outputs": [
        {
          "output_type": "display_data",
          "data": {
            "text/plain": [
              "<Figure size 648x360 with 1 Axes>"
            ],
            "image/png": "[encoded data removed]"
          },
          "metadata": {
            "needs_background": "light"
          }
        }
      ]
    },
    {
      "cell_type": "markdown",
      "source": [
        "A partir del gráfico podemos asumir que a pacientes mayores de 60 años se les receta, por lo general, la droga B.\n",
        "\n",
        "También, que la droga A se receta en un rango de edad más acotado (de 30 a 45 años).\n",
        "\n",
        "La droga Y, en cambio, se receta en un rango de edas más amplio (aproximadamente, de 30 a 60).\n",
        "\n",
        "Las drogas C y X se recetan, por lo general, en los rangos de 28 a 51 y de 32 a 57, respectivamente."
      ],
      "metadata": {
        "id": "3UCvsAE9yIIr"
      }
    },
    {
      "cell_type": "markdown",
      "source": [
        "### Sexo y droga recetada: "
      ],
      "metadata": {
        "id": "9GliUyTWHmvp"
      }
    },
    {
      "cell_type": "markdown",
      "source": [
        "Seguidamente, analizamos la relación entre **sexo** y **droga recetada**: "
      ],
      "metadata": {
        "id": "8w4abA2VEcXb"
      }
    },
    {
      "cell_type": "code",
      "source": [
        "pd.crosstab(df['Sex'], df['Drug'])"
      ],
      "metadata": {
        "colab": {
          "base_uri": "https://localhost:8080/",
          "height": 143
        },
        "id": "3dfv22qC1Yxv",
        "outputId": "91476baf-ed18-42b6-d47e-68febe0e48a3"
      },
      "execution_count": null,
      "outputs": [
        {
          "output_type": "execute_result",
          "data": {
            "text/plain": [
              "Drug  DrugY  drugA  drugB  drugC  drugX\n",
              "Sex                                    \n",
              "F        47      9      6      7     27\n",
              "M        44     14     10      9     27"
            ],
            "text/html": [
              "\n",
              "  <div id=\"df-2a3239bd-652f-4a11-8122-d2aed9dda1e3\">\n",
              "    <div class=\"colab-df-container\">\n",
              "      <div>\n",
              "<style scoped>\n",
              "    .dataframe tbody tr th:only-of-type {\n",
              "        vertical-align: middle;\n",
              "    }\n",
              "\n",
              "    .dataframe tbody tr th {\n",
              "        vertical-align: top;\n",
              "    }\n",
              "\n",
              "    .dataframe thead th {\n",
              "        text-align: right;\n",
              "    }\n",
              "</style>\n",
              "<table border=\"1\" class=\"dataframe\">\n",
              "  <thead>\n",
              "    <tr style=\"text-align: right;\">\n",
              "      <th>Drug</th>\n",
              "      <th>DrugY</th>\n",
              "      <th>drugA</th>\n",
              "      <th>drugB</th>\n",
              "      <th>drugC</th>\n",
              "      <th>drugX</th>\n",
              "    </tr>\n",
              "    <tr>\n",
              "      <th>Sex</th>\n",
              "      <th></th>\n",
              "      <th></th>\n",
              "      <th></th>\n",
              "      <th></th>\n",
              "      <th></th>\n",
              "    </tr>\n",
              "  </thead>\n",
              "  <tbody>\n",
              "    <tr>\n",
              "      <th>F</th>\n",
              "      <td>47</td>\n",
              "      <td>9</td>\n",
              "      <td>6</td>\n",
              "      <td>7</td>\n",
              "      <td>27</td>\n",
              "    </tr>\n",
              "    <tr>\n",
              "      <th>M</th>\n",
              "      <td>44</td>\n",
              "      <td>14</td>\n",
              "      <td>10</td>\n",
              "      <td>9</td>\n",
              "      <td>27</td>\n",
              "    </tr>\n",
              "  </tbody>\n",
              "</table>\n",
              "</div>\n",
              "      <button class=\"colab-df-convert\" onclick=\"convertToInteractive('df-2a3239bd-652f-4a11-8122-d2aed9dda1e3')\"\n",
              "              title=\"Convert this dataframe to an interactive table.\"\n",
              "              style=\"display:none;\">\n",
              "        \n",
              "  <svg xmlns=\"http://www.w3.org/2000/svg\" height=\"24px\"viewBox=\"0 0 24 24\"\n",
              "       width=\"24px\">\n",
              "    <path d=\"M0 0h24v24H0V0z\" fill=\"none\"/>\n",
              "    <path d=\"M18.56 5.44l.94 2.06.94-2.06 2.06-.94-2.06-.94-.94-2.06-.94 2.06-2.06.94zm-11 1L8.5 8.5l.94-2.06 2.06-.94-2.06-.94L8.5 2.5l-.94 2.06-2.06.94zm10 10l.94 2.06.94-2.06 2.06-.94-2.06-.94-.94-2.06-.94 2.06-2.06.94z\"/><path d=\"M17.41 7.96l-1.37-1.37c-.4-.4-.92-.59-1.43-.59-.52 0-1.04.2-1.43.59L10.3 9.45l-7.72 7.72c-.78.78-.78 2.05 0 2.83L4 21.41c.39.39.9.59 1.41.59.51 0 1.02-.2 1.41-.59l7.78-7.78 2.81-2.81c.8-.78.8-2.07 0-2.86zM5.41 20L4 18.59l7.72-7.72 1.47 1.35L5.41 20z\"/>\n",
              "  </svg>\n",
              "      </button>\n",
              "      \n",
              "  <style>\n",
              "    .colab-df-container {\n",
              "      display:flex;\n",
              "      flex-wrap:wrap;\n",
              "      gap: 12px;\n",
              "    }\n",
              "\n",
              "    .colab-df-convert {\n",
              "      background-color: #E8F0FE;\n",
              "      border: none;\n",
              "      border-radius: 50%;\n",
              "      cursor: pointer;\n",
              "      display: none;\n",
              "      fill: #1967D2;\n",
              "      height: 32px;\n",
              "      padding: 0 0 0 0;\n",
              "      width: 32px;\n",
              "    }\n",
              "\n",
              "    .colab-df-convert:hover {\n",
              "      background-color: #E2EBFA;\n",
              "      box-shadow: 0px 1px 2px rgba(60, 64, 67, 0.3), 0px 1px 3px 1px rgba(60, 64, 67, 0.15);\n",
              "      fill: #174EA6;\n",
              "    }\n",
              "\n",
              "    [theme=dark] .colab-df-convert {\n",
              "      background-color: #3B4455;\n",
              "      fill: #D2E3FC;\n",
              "    }\n",
              "\n",
              "    [theme=dark] .colab-df-convert:hover {\n",
              "      background-color: #434B5C;\n",
              "      box-shadow: 0px 1px 3px 1px rgba(0, 0, 0, 0.15);\n",
              "      filter: drop-shadow(0px 1px 2px rgba(0, 0, 0, 0.3));\n",
              "      fill: #FFFFFF;\n",
              "    }\n",
              "  </style>\n",
              "\n",
              "      <script>\n",
              "        const buttonEl =\n",
              "          document.querySelector('#df-2a3239bd-652f-4a11-8122-d2aed9dda1e3 button.colab-df-convert');\n",
              "        buttonEl.style.display =\n",
              "          google.colab.kernel.accessAllowed ? 'block' : 'none';\n",
              "\n",
              "        async function convertToInteractive(key) {\n",
              "          const element = document.querySelector('#df-2a3239bd-652f-4a11-8122-d2aed9dda1e3');\n",
              "          const dataTable =\n",
              "            await google.colab.kernel.invokeFunction('convertToInteractive',\n",
              "                                                     [key], {});\n",
              "          if (!dataTable) return;\n",
              "\n",
              "          const docLinkHtml = 'Like what you see? Visit the ' +\n",
              "            '<a target=\"_blank\" href=https://colab.research.google.com/notebooks/data_table.ipynb>data table notebook</a>'\n",
              "            + ' to learn more about interactive tables.';\n",
              "          element.innerHTML = '';\n",
              "          dataTable['output_type'] = 'display_data';\n",
              "          await google.colab.output.renderOutput(dataTable, element);\n",
              "          const docLink = document.createElement('div');\n",
              "          docLink.innerHTML = docLinkHtml;\n",
              "          element.appendChild(docLink);\n",
              "        }\n",
              "      </script>\n",
              "    </div>\n",
              "  </div>\n",
              "  "
            ]
          },
          "metadata": {},
          "execution_count": 19
        }
      ]
    },
    {
      "cell_type": "markdown",
      "source": [
        "A fin de facilitar el análisis, se indaga la relación visualmente: "
      ],
      "metadata": {
        "id": "rGnBYr0pE9mE"
      }
    },
    {
      "cell_type": "code",
      "source": [
        "plt.figure(figsize=(9,5))\n",
        "sns.heatmap(pd.crosstab(df['Sex'], df['Drug']))"
      ],
      "metadata": {
        "colab": {
          "base_uri": "https://localhost:8080/",
          "height": 354
        },
        "id": "6kBAEFV21kml",
        "outputId": "0d3da51d-2571-4b79-d04b-ebd948bbaa31"
      },
      "execution_count": null,
      "outputs": [
        {
          "output_type": "execute_result",
          "data": {
            "text/plain": [
              "<matplotlib.axes._subplots.AxesSubplot at 0x7fd544637a50>"
            ]
          },
          "metadata": {},
          "execution_count": 20
        },
        {
          "output_type": "display_data",
          "data": {
            "text/plain": [
              "<Figure size 648x360 with 2 Axes>"
            ],
            "image/png": "[encoded data removed]"
          },
          "metadata": {
            "needs_background": "light"
          }
        }
      ]
    },
    {
      "cell_type": "markdown",
      "source": [
        "A partir del gráfico de calor podemos inferir que la droga Y fue recetada, en mayor medida, en mujeres; la A, en varones; la B, en varones y la C y la X casi en igual proporción."
      ],
      "metadata": {
        "id": "WSL19H4R16Eq"
      }
    },
    {
      "cell_type": "markdown",
      "source": [
        "### Presión arterial y droga recetada: "
      ],
      "metadata": {
        "id": "TMcEdw4kHo0v"
      }
    },
    {
      "cell_type": "markdown",
      "source": [
        "Seguidamente, analizamos la relación entre **presión arterial** y **droga recetada**: "
      ],
      "metadata": {
        "id": "zGDzhPEEFJAF"
      }
    },
    {
      "cell_type": "code",
      "source": [
        "pd.crosstab(df['Sex'], df['Drug'])"
      ],
      "metadata": {
        "colab": {
          "base_uri": "https://localhost:8080/",
          "height": 143
        },
        "id": "NuK_ZQKi2q0i",
        "outputId": "0bb67ca0-cfd2-41ad-e6e4-a74736f15533"
      },
      "execution_count": null,
      "outputs": [
        {
          "output_type": "execute_result",
          "data": {
            "text/plain": [
              "Drug  DrugY  drugA  drugB  drugC  drugX\n",
              "Sex                                    \n",
              "F        47      9      6      7     27\n",
              "M        44     14     10      9     27"
            ],
            "text/html": [
              "\n",
              "  <div id=\"df-b587a26b-957a-4992-b6bc-58e2345c0b68\">\n",
              "    <div class=\"colab-df-container\">\n",
              "      <div>\n",
              "<style scoped>\n",
              "    .dataframe tbody tr th:only-of-type {\n",
              "        vertical-align: middle;\n",
              "    }\n",
              "\n",
              "    .dataframe tbody tr th {\n",
              "        vertical-align: top;\n",
              "    }\n",
              "\n",
              "    .dataframe thead th {\n",
              "        text-align: right;\n",
              "    }\n",
              "</style>\n",
              "<table border=\"1\" class=\"dataframe\">\n",
              "  <thead>\n",
              "    <tr style=\"text-align: right;\">\n",
              "      <th>Drug</th>\n",
              "      <th>DrugY</th>\n",
              "      <th>drugA</th>\n",
              "      <th>drugB</th>\n",
              "      <th>drugC</th>\n",
              "      <th>drugX</th>\n",
              "    </tr>\n",
              "    <tr>\n",
              "      <th>Sex</th>\n",
              "      <th></th>\n",
              "      <th></th>\n",
              "      <th></th>\n",
              "      <th></th>\n",
              "      <th></th>\n",
              "    </tr>\n",
              "  </thead>\n",
              "  <tbody>\n",
              "    <tr>\n",
              "      <th>F</th>\n",
              "      <td>47</td>\n",
              "      <td>9</td>\n",
              "      <td>6</td>\n",
              "      <td>7</td>\n",
              "      <td>27</td>\n",
              "    </tr>\n",
              "    <tr>\n",
              "      <th>M</th>\n",
              "      <td>44</td>\n",
              "      <td>14</td>\n",
              "      <td>10</td>\n",
              "      <td>9</td>\n",
              "      <td>27</td>\n",
              "    </tr>\n",
              "  </tbody>\n",
              "</table>\n",
              "</div>\n",
              "      <button class=\"colab-df-convert\" onclick=\"convertToInteractive('df-b587a26b-957a-4992-b6bc-58e2345c0b68')\"\n",
              "              title=\"Convert this dataframe to an interactive table.\"\n",
              "              style=\"display:none;\">\n",
              "        \n",
              "  <svg xmlns=\"http://www.w3.org/2000/svg\" height=\"24px\"viewBox=\"0 0 24 24\"\n",
              "       width=\"24px\">\n",
              "    <path d=\"M0 0h24v24H0V0z\" fill=\"none\"/>\n",
              "    <path d=\"M18.56 5.44l.94 2.06.94-2.06 2.06-.94-2.06-.94-.94-2.06-.94 2.06-2.06.94zm-11 1L8.5 8.5l.94-2.06 2.06-.94-2.06-.94L8.5 2.5l-.94 2.06-2.06.94zm10 10l.94 2.06.94-2.06 2.06-.94-2.06-.94-.94-2.06-.94 2.06-2.06.94z\"/><path d=\"M17.41 7.96l-1.37-1.37c-.4-.4-.92-.59-1.43-.59-.52 0-1.04.2-1.43.59L10.3 9.45l-7.72 7.72c-.78.78-.78 2.05 0 2.83L4 21.41c.39.39.9.59 1.41.59.51 0 1.02-.2 1.41-.59l7.78-7.78 2.81-2.81c.8-.78.8-2.07 0-2.86zM5.41 20L4 18.59l7.72-7.72 1.47 1.35L5.41 20z\"/>\n",
              "  </svg>\n",
              "      </button>\n",
              "      \n",
              "  <style>\n",
              "    .colab-df-container {\n",
              "      display:flex;\n",
              "      flex-wrap:wrap;\n",
              "      gap: 12px;\n",
              "    }\n",
              "\n",
              "    .colab-df-convert {\n",
              "      background-color: #E8F0FE;\n",
              "      border: none;\n",
              "      border-radius: 50%;\n",
              "      cursor: pointer;\n",
              "      display: none;\n",
              "      fill: #1967D2;\n",
              "      height: 32px;\n",
              "      padding: 0 0 0 0;\n",
              "      width: 32px;\n",
              "    }\n",
              "\n",
              "    .colab-df-convert:hover {\n",
              "      background-color: #E2EBFA;\n",
              "      box-shadow: 0px 1px 2px rgba(60, 64, 67, 0.3), 0px 1px 3px 1px rgba(60, 64, 67, 0.15);\n",
              "      fill: #174EA6;\n",
              "    }\n",
              "\n",
              "    [theme=dark] .colab-df-convert {\n",
              "      background-color: #3B4455;\n",
              "      fill: #D2E3FC;\n",
              "    }\n",
              "\n",
              "    [theme=dark] .colab-df-convert:hover {\n",
              "      background-color: #434B5C;\n",
              "      box-shadow: 0px 1px 3px 1px rgba(0, 0, 0, 0.15);\n",
              "      filter: drop-shadow(0px 1px 2px rgba(0, 0, 0, 0.3));\n",
              "      fill: #FFFFFF;\n",
              "    }\n",
              "  </style>\n",
              "\n",
              "      <script>\n",
              "        const buttonEl =\n",
              "          document.querySelector('#df-b587a26b-957a-4992-b6bc-58e2345c0b68 button.colab-df-convert');\n",
              "        buttonEl.style.display =\n",
              "          google.colab.kernel.accessAllowed ? 'block' : 'none';\n",
              "\n",
              "        async function convertToInteractive(key) {\n",
              "          const element = document.querySelector('#df-b587a26b-957a-4992-b6bc-58e2345c0b68');\n",
              "          const dataTable =\n",
              "            await google.colab.kernel.invokeFunction('convertToInteractive',\n",
              "                                                     [key], {});\n",
              "          if (!dataTable) return;\n",
              "\n",
              "          const docLinkHtml = 'Like what you see? Visit the ' +\n",
              "            '<a target=\"_blank\" href=https://colab.research.google.com/notebooks/data_table.ipynb>data table notebook</a>'\n",
              "            + ' to learn more about interactive tables.';\n",
              "          element.innerHTML = '';\n",
              "          dataTable['output_type'] = 'display_data';\n",
              "          await google.colab.output.renderOutput(dataTable, element);\n",
              "          const docLink = document.createElement('div');\n",
              "          docLink.innerHTML = docLinkHtml;\n",
              "          element.appendChild(docLink);\n",
              "        }\n",
              "      </script>\n",
              "    </div>\n",
              "  </div>\n",
              "  "
            ]
          },
          "metadata": {},
          "execution_count": 21
        }
      ]
    },
    {
      "cell_type": "markdown",
      "source": [
        "Graficamos esta relación: "
      ],
      "metadata": {
        "id": "RmgL_E58FPig"
      }
    },
    {
      "cell_type": "code",
      "source": [
        "plt.figure(figsize=(9,5))\n",
        "sns.heatmap(pd.crosstab(df['BP'], df['Drug']))"
      ],
      "metadata": {
        "colab": {
          "base_uri": "https://localhost:8080/",
          "height": 354
        },
        "id": "lCFjWksK2lQF",
        "outputId": "be3d3e0a-a313-49cd-f75b-79510094abdb"
      },
      "execution_count": null,
      "outputs": [
        {
          "output_type": "execute_result",
          "data": {
            "text/plain": [
              "<matplotlib.axes._subplots.AxesSubplot at 0x7fd541d3e890>"
            ]
          },
          "metadata": {},
          "execution_count": 22
        },
        {
          "output_type": "display_data",
          "data": {
            "text/plain": [
              "<Figure size 648x360 with 2 Axes>"
            ],
            "image/png": "[encoded data removed]"
          },
          "metadata": {
            "needs_background": "light"
          }
        }
      ]
    },
    {
      "cell_type": "markdown",
      "source": [
        "- A partir del gráfico de calor podemos inferir que la droga Y fue \n",
        "recetada, en mayor medida, en pacientes con presión arterial alta y en menor medida a pacientes con presión arterial normal. \n",
        "\n",
        "- La A, en mayor medida en pacientes con presión arterial alta y en menor medida en pacientes con presión arterial baja y normal. \n",
        "\n",
        "- La B, en mayor medida en pacientes con presión arterial alta y en menor medida en pacientes con presión arterial baja y normal. \n",
        "\n",
        "- La C, en mayor medida en pacientes con presión arterial baja y en menor medida en pacientes con presión arterial alta y normal.  \n",
        "\n",
        "- La X, en mayor medida en pacientes con presión arterial normal y en menor medida en pacientes con presión arterial alta."
      ],
      "metadata": {
        "id": "CZf19s8I2wjX"
      }
    },
    {
      "cell_type": "markdown",
      "source": [
        "### Colesterol y droga recetada: "
      ],
      "metadata": {
        "id": "HEulrBLpHrjS"
      }
    },
    {
      "cell_type": "markdown",
      "source": [
        "A continuación, se presenta el análisis entre **colesterol** y **droga recetada**: "
      ],
      "metadata": {
        "id": "LR9I8K3BFnbm"
      }
    },
    {
      "cell_type": "code",
      "source": [
        "pd.crosstab(df['Cholesterol'], df['Drug'])"
      ],
      "metadata": {
        "colab": {
          "base_uri": "https://localhost:8080/",
          "height": 143
        },
        "id": "_MbZh92a3wVY",
        "outputId": "25558205-a181-4e73-c893-a6ab8d583a23"
      },
      "execution_count": null,
      "outputs": [
        {
          "output_type": "execute_result",
          "data": {
            "text/plain": [
              "Drug         DrugY  drugA  drugB  drugC  drugX\n",
              "Cholesterol                                   \n",
              "HIGH            47     12      8     16     20\n",
              "NORMAL          44     11      8      0     34"
            ],
            "text/html": [
              "\n",
              "  <div id=\"df-71cb24a2-cf33-4a3e-bb71-d421474ce735\">\n",
              "    <div class=\"colab-df-container\">\n",
              "      <div>\n",
              "<style scoped>\n",
              "    .dataframe tbody tr th:only-of-type {\n",
              "        vertical-align: middle;\n",
              "    }\n",
              "\n",
              "    .dataframe tbody tr th {\n",
              "        vertical-align: top;\n",
              "    }\n",
              "\n",
              "    .dataframe thead th {\n",
              "        text-align: right;\n",
              "    }\n",
              "</style>\n",
              "<table border=\"1\" class=\"dataframe\">\n",
              "  <thead>\n",
              "    <tr style=\"text-align: right;\">\n",
              "      <th>Drug</th>\n",
              "      <th>DrugY</th>\n",
              "      <th>drugA</th>\n",
              "      <th>drugB</th>\n",
              "      <th>drugC</th>\n",
              "      <th>drugX</th>\n",
              "    </tr>\n",
              "    <tr>\n",
              "      <th>Cholesterol</th>\n",
              "      <th></th>\n",
              "      <th></th>\n",
              "      <th></th>\n",
              "      <th></th>\n",
              "      <th></th>\n",
              "    </tr>\n",
              "  </thead>\n",
              "  <tbody>\n",
              "    <tr>\n",
              "      <th>HIGH</th>\n",
              "      <td>47</td>\n",
              "      <td>12</td>\n",
              "      <td>8</td>\n",
              "      <td>16</td>\n",
              "      <td>20</td>\n",
              "    </tr>\n",
              "    <tr>\n",
              "      <th>NORMAL</th>\n",
              "      <td>44</td>\n",
              "      <td>11</td>\n",
              "      <td>8</td>\n",
              "      <td>0</td>\n",
              "      <td>34</td>\n",
              "    </tr>\n",
              "  </tbody>\n",
              "</table>\n",
              "</div>\n",
              "      <button class=\"colab-df-convert\" onclick=\"convertToInteractive('df-71cb24a2-cf33-4a3e-bb71-d421474ce735')\"\n",
              "              title=\"Convert this dataframe to an interactive table.\"\n",
              "              style=\"display:none;\">\n",
              "        \n",
              "  <svg xmlns=\"http://www.w3.org/2000/svg\" height=\"24px\"viewBox=\"0 0 24 24\"\n",
              "       width=\"24px\">\n",
              "    <path d=\"M0 0h24v24H0V0z\" fill=\"none\"/>\n",
              "    <path d=\"M18.56 5.44l.94 2.06.94-2.06 2.06-.94-2.06-.94-.94-2.06-.94 2.06-2.06.94zm-11 1L8.5 8.5l.94-2.06 2.06-.94-2.06-.94L8.5 2.5l-.94 2.06-2.06.94zm10 10l.94 2.06.94-2.06 2.06-.94-2.06-.94-.94-2.06-.94 2.06-2.06.94z\"/><path d=\"M17.41 7.96l-1.37-1.37c-.4-.4-.92-.59-1.43-.59-.52 0-1.04.2-1.43.59L10.3 9.45l-7.72 7.72c-.78.78-.78 2.05 0 2.83L4 21.41c.39.39.9.59 1.41.59.51 0 1.02-.2 1.41-.59l7.78-7.78 2.81-2.81c.8-.78.8-2.07 0-2.86zM5.41 20L4 18.59l7.72-7.72 1.47 1.35L5.41 20z\"/>\n",
              "  </svg>\n",
              "      </button>\n",
              "      \n",
              "  <style>\n",
              "    .colab-df-container {\n",
              "      display:flex;\n",
              "      flex-wrap:wrap;\n",
              "      gap: 12px;\n",
              "    }\n",
              "\n",
              "    .colab-df-convert {\n",
              "      background-color: #E8F0FE;\n",
              "      border: none;\n",
              "      border-radius: 50%;\n",
              "      cursor: pointer;\n",
              "      display: none;\n",
              "      fill: #1967D2;\n",
              "      height: 32px;\n",
              "      padding: 0 0 0 0;\n",
              "      width: 32px;\n",
              "    }\n",
              "\n",
              "    .colab-df-convert:hover {\n",
              "      background-color: #E2EBFA;\n",
              "      box-shadow: 0px 1px 2px rgba(60, 64, 67, 0.3), 0px 1px 3px 1px rgba(60, 64, 67, 0.15);\n",
              "      fill: #174EA6;\n",
              "    }\n",
              "\n",
              "    [theme=dark] .colab-df-convert {\n",
              "      background-color: #3B4455;\n",
              "      fill: #D2E3FC;\n",
              "    }\n",
              "\n",
              "    [theme=dark] .colab-df-convert:hover {\n",
              "      background-color: #434B5C;\n",
              "      box-shadow: 0px 1px 3px 1px rgba(0, 0, 0, 0.15);\n",
              "      filter: drop-shadow(0px 1px 2px rgba(0, 0, 0, 0.3));\n",
              "      fill: #FFFFFF;\n",
              "    }\n",
              "  </style>\n",
              "\n",
              "      <script>\n",
              "        const buttonEl =\n",
              "          document.querySelector('#df-71cb24a2-cf33-4a3e-bb71-d421474ce735 button.colab-df-convert');\n",
              "        buttonEl.style.display =\n",
              "          google.colab.kernel.accessAllowed ? 'block' : 'none';\n",
              "\n",
              "        async function convertToInteractive(key) {\n",
              "          const element = document.querySelector('#df-71cb24a2-cf33-4a3e-bb71-d421474ce735');\n",
              "          const dataTable =\n",
              "            await google.colab.kernel.invokeFunction('convertToInteractive',\n",
              "                                                     [key], {});\n",
              "          if (!dataTable) return;\n",
              "\n",
              "          const docLinkHtml = 'Like what you see? Visit the ' +\n",
              "            '<a target=\"_blank\" href=https://colab.research.google.com/notebooks/data_table.ipynb>data table notebook</a>'\n",
              "            + ' to learn more about interactive tables.';\n",
              "          element.innerHTML = '';\n",
              "          dataTable['output_type'] = 'display_data';\n",
              "          await google.colab.output.renderOutput(dataTable, element);\n",
              "          const docLink = document.createElement('div');\n",
              "          docLink.innerHTML = docLinkHtml;\n",
              "          element.appendChild(docLink);\n",
              "        }\n",
              "      </script>\n",
              "    </div>\n",
              "  </div>\n",
              "  "
            ]
          },
          "metadata": {},
          "execution_count": 23
        }
      ]
    },
    {
      "cell_type": "markdown",
      "source": [
        "Se presenta la relación entre las variables de manera gráfica: "
      ],
      "metadata": {
        "id": "vASUOJcBGN3A"
      }
    },
    {
      "cell_type": "code",
      "source": [
        "plt.figure(figsize=(9,5))\n",
        "sns.heatmap(pd.crosstab(df['Cholesterol'], df['Drug']))"
      ],
      "metadata": {
        "colab": {
          "base_uri": "https://localhost:8080/",
          "height": 354
        },
        "id": "JAmIWEsK33UH",
        "outputId": "4dc52309-b957-4109-9202-773d354aceb2"
      },
      "execution_count": null,
      "outputs": [
        {
          "output_type": "execute_result",
          "data": {
            "text/plain": [
              "<matplotlib.axes._subplots.AxesSubplot at 0x7fd541d23f90>"
            ]
          },
          "metadata": {},
          "execution_count": 24
        },
        {
          "output_type": "display_data",
          "data": {
            "text/plain": [
              "<Figure size 648x360 with 2 Axes>"
            ],
            "image/png": "[encoded data removed]"
          },
          "metadata": {
            "needs_background": "light"
          }
        }
      ]
    },
    {
      "cell_type": "markdown",
      "source": [
        "A partir del gráfico podemos inferir que las drogas Y, A y B fueron recetadas casi indistintamente entre pacientes con colesterol alto y normal; que la C se recetó en mayor medida en pacientes con colesterol alto y la X, en pacientes con colesterol normal."
      ],
      "metadata": {
        "id": "bMAT5_jL4BhB"
      }
    },
    {
      "cell_type": "markdown",
      "source": [
        "### Proporción de sodio y droga recetada:"
      ],
      "metadata": {
        "id": "4WdgVteeH9k-"
      }
    },
    {
      "cell_type": "markdown",
      "source": [
        "Finalmente, indagamos la relación entre proporción de sodio a potasio y droga: "
      ],
      "metadata": {
        "id": "V3EQrV7kGnN5"
      }
    },
    {
      "cell_type": "code",
      "source": [
        "plt.figure(figsize=(9,5))\n",
        "sns.boxenplot(x = df['Drug'], y = df['Na_to_K'], palette = 'Set3')\n",
        "plt.title('Relación entre Proporción de Sodio y Drogas', fontsize = 20, fontweight = 30)\n",
        "plt.show()"
      ],
      "metadata": {
        "colab": {
          "base_uri": "https://localhost:8080/",
          "height": 359
        },
        "id": "-AHrraOBzNfX",
        "outputId": "6ec7a758-fefe-428f-8b2c-5231e8778908"
      },
      "execution_count": null,
      "outputs": [
        {
          "output_type": "display_data",
          "data": {
            "text/plain": [
              "<Figure size 648x360 with 1 Axes>"
            ],
            "image/png": "[encoded data removed]"
          },
          "metadata": {
            "needs_background": "light"
          }
        }
      ]
    },
    {
      "cell_type": "markdown",
      "source": [
        "A partir del gráfico podemos inferir que para pacientes con proporciones más elevadas se receta la droga Y.\n",
        "\n",
        "El resto de las drogas son recetas, por lo general, a pacientes con proporciones cercanas a 10."
      ],
      "metadata": {
        "id": "mXVTYaUm0XiU"
      }
    },
    {
      "cell_type": "markdown",
      "source": [
        "## 3. Análisis multivariado"
      ],
      "metadata": {
        "id": "T1wWdZpOIkq3"
      }
    },
    {
      "cell_type": "markdown",
      "source": [
        "Habiendo indagado la relación bivariada entre variables, se procede a analizar la relación entre conjuntos de variables. "
      ],
      "metadata": {
        "id": "6ReZ6E2JJusn"
      }
    },
    {
      "cell_type": "markdown",
      "source": [
        "### Edad, proporción de sodio y drogra recetada: "
      ],
      "metadata": {
        "id": "H1msBEiwSzsl"
      }
    },
    {
      "cell_type": "markdown",
      "source": [
        "Se analiza así la relación entre **edad**, **proporción de sodio** y **droga recetada**:"
      ],
      "metadata": {
        "id": "BuJra-xTMWR_"
      }
    },
    {
      "cell_type": "code",
      "source": [
        "plt.figure(dpi = 120,figsize= (12,8))\n",
        "sns.pairplot(df, hue = 'Drug', palette = 'plasma', height=4, aspect= 1)\n",
        "plt.show()"
      ],
      "metadata": {
        "colab": {
          "base_uri": "https://localhost:8080/",
          "height": 602
        },
        "id": "BHdHLXbPM9nT",
        "outputId": "04488324-a2c5-4755-f8ae-105c10b23388"
      },
      "execution_count": null,
      "outputs": [
        {
          "output_type": "display_data",
          "data": {
            "text/plain": [
              "<Figure size 1440x960 with 0 Axes>"
            ]
          },
          "metadata": {}
        },
        {
          "output_type": "display_data",
          "data": {
            "text/plain": [
              "<Figure size 642.625x576 with 6 Axes>"
            ],
            "image/png": "[encoded data removed]"
          },
          "metadata": {
            "needs_background": "light"
          }
        }
      ]
    },
    {
      "cell_type": "markdown",
      "source": [
        "Se observa que la mayor variabilidad se registra en la Droga Y, viendose mayor concentración de casos en la Droga B respecto a la edad y el potasio según el sodio en sangre."
      ],
      "metadata": {
        "id": "31jJRCNINF8p"
      }
    },
    {
      "cell_type": "markdown",
      "source": [
        "### Sexo, proporción de sodio y droga recetada: "
      ],
      "metadata": {
        "id": "SbU45SYDS5mm"
      }
    },
    {
      "cell_type": "markdown",
      "source": [
        "Se analiza, también, la relación entre **droga recetada**, **proporción de potasio** y **sexo**: "
      ],
      "metadata": {
        "id": "v9eQUSjXNLGR"
      }
    },
    {
      "cell_type": "code",
      "source": [
        "plt.figure(figsize = (9,5))\n",
        "sns.swarmplot(x = \"Drug\", y = \"Na_to_K\",hue=\"Sex\",data = df)\n",
        "plt.legend()\n",
        "plt.title(\"Relación entre Sexo, Droga y Proporción de potasio\")\n",
        "plt.show()"
      ],
      "metadata": {
        "colab": {
          "base_uri": "https://localhost:8080/",
          "height": 354
        },
        "id": "8Mo9_N10NjQE",
        "outputId": "6c70e348-08dd-4d9c-c5a5-6320fe169a25"
      },
      "execution_count": null,
      "outputs": [
        {
          "output_type": "display_data",
          "data": {
            "text/plain": [
              "<Figure size 648x360 with 1 Axes>"
            ],
            "image/png": "[encoded data removed]"
          },
          "metadata": {
            "needs_background": "light"
          }
        }
      ]
    },
    {
      "cell_type": "markdown",
      "source": [
        "Así, puede notarse que el sexo no interviene en la relación: ambos sexos reciben mayor cantidad de recetas de droga X y droga Y. Esta distinción puede explicarse observando su proporción de potasio, a mayor potasio reciben droga Y y a menor potasio reciben droga X. \n"
      ],
      "metadata": {
        "id": "MBR0v9x0ReRt"
      }
    },
    {
      "cell_type": "markdown",
      "source": [
        "## Algoritmos de clasificación"
      ],
      "metadata": {
        "id": "81fxV5s4SYY8"
      }
    },
    {
      "cell_type": "markdown",
      "source": [
        "Habiendo indagado las distintas relaciones entre las variables, pasamos a proponer modelos de clasificación de los pacientes. "
      ],
      "metadata": {
        "id": "_4qJ3NXaTRFm"
      }
    },
    {
      "cell_type": "markdown",
      "source": [
        "En principio, modificamos los datos pasandolos a dummys: "
      ],
      "metadata": {
        "id": "Em6P6TxTWAF8"
      }
    },
    {
      "cell_type": "code",
      "source": [
        "df_dummy = pd.get_dummies(df, drop_first=True)\n",
        "df_dummy.head()"
      ],
      "metadata": {
        "colab": {
          "base_uri": "https://localhost:8080/",
          "height": 206
        },
        "id": "4-D5KC51WFX1",
        "outputId": "b8e7ae43-eecc-4297-a325-c203a9014cad"
      },
      "execution_count": null,
      "outputs": [
        {
          "output_type": "execute_result",
          "data": {
            "text/plain": [
              "   Age  Na_to_K  Sex_M  BP_LOW  BP_NORMAL  Cholesterol_NORMAL  Drug_drugA  \\\n",
              "0   23   25.355      0       0          0                   0           0   \n",
              "1   47   13.093      1       1          0                   0           0   \n",
              "2   47   10.114      1       1          0                   0           0   \n",
              "3   28    7.798      0       0          1                   0           0   \n",
              "4   61   18.043      0       1          0                   0           0   \n",
              "\n",
              "   Drug_drugB  Drug_drugC  Drug_drugX  \n",
              "0           0           0           0  \n",
              "1           0           1           0  \n",
              "2           0           1           0  \n",
              "3           0           0           1  \n",
              "4           0           0           0  "
            ],
            "text/html": [
              "\n",
              "  <div id=\"df-afa4f62f-e1b3-4325-a591-5c63a1806c82\">\n",
              "    <div class=\"colab-df-container\">\n",
              "      <div>\n",
              "<style scoped>\n",
              "    .dataframe tbody tr th:only-of-type {\n",
              "        vertical-align: middle;\n",
              "    }\n",
              "\n",
              "    .dataframe tbody tr th {\n",
              "        vertical-align: top;\n",
              "    }\n",
              "\n",
              "    .dataframe thead th {\n",
              "        text-align: right;\n",
              "    }\n",
              "</style>\n",
              "<table border=\"1\" class=\"dataframe\">\n",
              "  <thead>\n",
              "    <tr style=\"text-align: right;\">\n",
              "      <th></th>\n",
              "      <th>Age</th>\n",
              "      <th>Na_to_K</th>\n",
              "      <th>Sex_M</th>\n",
              "      <th>BP_LOW</th>\n",
              "      <th>BP_NORMAL</th>\n",
              "      <th>Cholesterol_NORMAL</th>\n",
              "      <th>Drug_drugA</th>\n",
              "      <th>Drug_drugB</th>\n",
              "      <th>Drug_drugC</th>\n",
              "      <th>Drug_drugX</th>\n",
              "    </tr>\n",
              "  </thead>\n",
              "  <tbody>\n",
              "    <tr>\n",
              "      <th>0</th>\n",
              "      <td>23</td>\n",
              "      <td>25.355</td>\n",
              "      <td>0</td>\n",
              "      <td>0</td>\n",
              "      <td>0</td>\n",
              "      <td>0</td>\n",
              "      <td>0</td>\n",
              "      <td>0</td>\n",
              "      <td>0</td>\n",
              "      <td>0</td>\n",
              "    </tr>\n",
              "    <tr>\n",
              "      <th>1</th>\n",
              "      <td>47</td>\n",
              "      <td>13.093</td>\n",
              "      <td>1</td>\n",
              "      <td>1</td>\n",
              "      <td>0</td>\n",
              "      <td>0</td>\n",
              "      <td>0</td>\n",
              "      <td>0</td>\n",
              "      <td>1</td>\n",
              "      <td>0</td>\n",
              "    </tr>\n",
              "    <tr>\n",
              "      <th>2</th>\n",
              "      <td>47</td>\n",
              "      <td>10.114</td>\n",
              "      <td>1</td>\n",
              "      <td>1</td>\n",
              "      <td>0</td>\n",
              "      <td>0</td>\n",
              "      <td>0</td>\n",
              "      <td>0</td>\n",
              "      <td>1</td>\n",
              "      <td>0</td>\n",
              "    </tr>\n",
              "    <tr>\n",
              "      <th>3</th>\n",
              "      <td>28</td>\n",
              "      <td>7.798</td>\n",
              "      <td>0</td>\n",
              "      <td>0</td>\n",
              "      <td>1</td>\n",
              "      <td>0</td>\n",
              "      <td>0</td>\n",
              "      <td>0</td>\n",
              "      <td>0</td>\n",
              "      <td>1</td>\n",
              "    </tr>\n",
              "    <tr>\n",
              "      <th>4</th>\n",
              "      <td>61</td>\n",
              "      <td>18.043</td>\n",
              "      <td>0</td>\n",
              "      <td>1</td>\n",
              "      <td>0</td>\n",
              "      <td>0</td>\n",
              "      <td>0</td>\n",
              "      <td>0</td>\n",
              "      <td>0</td>\n",
              "      <td>0</td>\n",
              "    </tr>\n",
              "  </tbody>\n",
              "</table>\n",
              "</div>\n",
              "      <button class=\"colab-df-convert\" onclick=\"convertToInteractive('df-afa4f62f-e1b3-4325-a591-5c63a1806c82')\"\n",
              "              title=\"Convert this dataframe to an interactive table.\"\n",
              "              style=\"display:none;\">\n",
              "        \n",
              "  <svg xmlns=\"http://www.w3.org/2000/svg\" height=\"24px\"viewBox=\"0 0 24 24\"\n",
              "       width=\"24px\">\n",
              "    <path d=\"M0 0h24v24H0V0z\" fill=\"none\"/>\n",
              "    <path d=\"M18.56 5.44l.94 2.06.94-2.06 2.06-.94-2.06-.94-.94-2.06-.94 2.06-2.06.94zm-11 1L8.5 8.5l.94-2.06 2.06-.94-2.06-.94L8.5 2.5l-.94 2.06-2.06.94zm10 10l.94 2.06.94-2.06 2.06-.94-2.06-.94-.94-2.06-.94 2.06-2.06.94z\"/><path d=\"M17.41 7.96l-1.37-1.37c-.4-.4-.92-.59-1.43-.59-.52 0-1.04.2-1.43.59L10.3 9.45l-7.72 7.72c-.78.78-.78 2.05 0 2.83L4 21.41c.39.39.9.59 1.41.59.51 0 1.02-.2 1.41-.59l7.78-7.78 2.81-2.81c.8-.78.8-2.07 0-2.86zM5.41 20L4 18.59l7.72-7.72 1.47 1.35L5.41 20z\"/>\n",
              "  </svg>\n",
              "      </button>\n",
              "      \n",
              "  <style>\n",
              "    .colab-df-container {\n",
              "      display:flex;\n",
              "      flex-wrap:wrap;\n",
              "      gap: 12px;\n",
              "    }\n",
              "\n",
              "    .colab-df-convert {\n",
              "      background-color: #E8F0FE;\n",
              "      border: none;\n",
              "      border-radius: 50%;\n",
              "      cursor: pointer;\n",
              "      display: none;\n",
              "      fill: #1967D2;\n",
              "      height: 32px;\n",
              "      padding: 0 0 0 0;\n",
              "      width: 32px;\n",
              "    }\n",
              "\n",
              "    .colab-df-convert:hover {\n",
              "      background-color: #E2EBFA;\n",
              "      box-shadow: 0px 1px 2px rgba(60, 64, 67, 0.3), 0px 1px 3px 1px rgba(60, 64, 67, 0.15);\n",
              "      fill: #174EA6;\n",
              "    }\n",
              "\n",
              "    [theme=dark] .colab-df-convert {\n",
              "      background-color: #3B4455;\n",
              "      fill: #D2E3FC;\n",
              "    }\n",
              "\n",
              "    [theme=dark] .colab-df-convert:hover {\n",
              "      background-color: #434B5C;\n",
              "      box-shadow: 0px 1px 3px 1px rgba(0, 0, 0, 0.15);\n",
              "      filter: drop-shadow(0px 1px 2px rgba(0, 0, 0, 0.3));\n",
              "      fill: #FFFFFF;\n",
              "    }\n",
              "  </style>\n",
              "\n",
              "      <script>\n",
              "        const buttonEl =\n",
              "          document.querySelector('#df-afa4f62f-e1b3-4325-a591-5c63a1806c82 button.colab-df-convert');\n",
              "        buttonEl.style.display =\n",
              "          google.colab.kernel.accessAllowed ? 'block' : 'none';\n",
              "\n",
              "        async function convertToInteractive(key) {\n",
              "          const element = document.querySelector('#df-afa4f62f-e1b3-4325-a591-5c63a1806c82');\n",
              "          const dataTable =\n",
              "            await google.colab.kernel.invokeFunction('convertToInteractive',\n",
              "                                                     [key], {});\n",
              "          if (!dataTable) return;\n",
              "\n",
              "          const docLinkHtml = 'Like what you see? Visit the ' +\n",
              "            '<a target=\"_blank\" href=https://colab.research.google.com/notebooks/data_table.ipynb>data table notebook</a>'\n",
              "            + ' to learn more about interactive tables.';\n",
              "          element.innerHTML = '';\n",
              "          dataTable['output_type'] = 'display_data';\n",
              "          await google.colab.output.renderOutput(dataTable, element);\n",
              "          const docLink = document.createElement('div');\n",
              "          docLink.innerHTML = docLinkHtml;\n",
              "          element.appendChild(docLink);\n",
              "        }\n",
              "      </script>\n",
              "    </div>\n",
              "  </div>\n",
              "  "
            ]
          },
          "metadata": {},
          "execution_count": 28
        }
      ]
    },
    {
      "cell_type": "markdown",
      "source": [
        "Seguidamente, eliminamos la variable a predecir y definimos la variable target: "
      ],
      "metadata": {
        "id": "1YV0jcqQWTmJ"
      }
    },
    {
      "cell_type": "code",
      "source": [
        "X = df_dummy.drop('Drug_drugX', axis=1) \n",
        "y = df_dummy.Drug_drugX "
      ],
      "metadata": {
        "id": "ov_wiYA9WT62"
      },
      "execution_count": null,
      "outputs": []
    },
    {
      "cell_type": "markdown",
      "source": [
        "Así, pasamos a dividir el df entre conjunto de datos para entrenar y conjunto de datos para testear. \n",
        "\n",
        "Definimos un 20% de datos para test y un 80% para train: "
      ],
      "metadata": {
        "id": "S9CFCRNKW-Um"
      }
    },
    {
      "cell_type": "code",
      "source": [
        "X_train, X_test, y_train, y_test = train_test_split(X, y, test_size=0.2, random_state=42, shuffle = True)\n",
        "\n",
        "y_train = y_train.values.reshape(-1,1)\n",
        "y_test = y_test.values.reshape(-1,1)\n",
        "\n",
        "print(\"x_train shape:\",X_train.shape)\n",
        "print(\"x_test shape:\",X_test.shape)\n",
        "print(\"y_train shape:\",y_train.shape)\n",
        "print(\"y_test shape:\",y_test.shape)\n"
      ],
      "metadata": {
        "colab": {
          "base_uri": "https://localhost:8080/"
        },
        "id": "IIv2srKaW-oJ",
        "outputId": "09999d5a-820b-4c3b-8623-846ee6908f32"
      },
      "execution_count": null,
      "outputs": [
        {
          "output_type": "stream",
          "name": "stdout",
          "text": [
            "x_train shape: (160, 9)\n",
            "x_test shape: (40, 9)\n",
            "y_train shape: (160, 1)\n",
            "y_test shape: (40, 1)\n"
          ]
        }
      ]
    },
    {
      "cell_type": "markdown",
      "source": [
        "A continuación, vamos a probar **cuatro modelos de clasificación** y vamos a comparar las métricas resultantes. "
      ],
      "metadata": {
        "id": "xy4vGc4xYcpi"
      }
    },
    {
      "cell_type": "markdown",
      "source": [
        "Creamos dos objetos para alojar las métricas resultantes y poder compararlas."
      ],
      "metadata": {
        "id": "eXIIgfnYj_EW"
      }
    },
    {
      "cell_type": "code",
      "source": [
        "result_dict_train = {}\n",
        "result_dict_test = {}"
      ],
      "metadata": {
        "id": "WdGcH30Ui8XF"
      },
      "execution_count": null,
      "outputs": []
    },
    {
      "cell_type": "markdown",
      "source": [
        "### Clasificación por árboles de decisión"
      ],
      "metadata": {
        "id": "hwtLFmWUaUvP"
      }
    },
    {
      "cell_type": "markdown",
      "source": [
        "Avanzamos creando el modelo: "
      ],
      "metadata": {
        "id": "Ja_xGXueaQu_"
      }
    },
    {
      "cell_type": "code",
      "source": [
        "tree = DecisionTreeClassifier(max_depth=2, random_state = 42)"
      ],
      "metadata": {
        "id": "J7pcCzGTYc47"
      },
      "execution_count": null,
      "outputs": []
    },
    {
      "cell_type": "markdown",
      "source": [
        "Entrenamos el modelo: "
      ],
      "metadata": {
        "id": "j8tB81Zscaxe"
      }
    },
    {
      "cell_type": "code",
      "source": [
        "tree.fit(X_train,y_train)"
      ],
      "metadata": {
        "colab": {
          "base_uri": "https://localhost:8080/"
        },
        "id": "cLY6G7uladLj",
        "outputId": "fec48e0c-eb5a-4142-9601-470a5e27a757"
      },
      "execution_count": null,
      "outputs": [
        {
          "output_type": "execute_result",
          "data": {
            "text/plain": [
              "DecisionTreeClassifier(max_depth=2, random_state=42)"
            ]
          },
          "metadata": {},
          "execution_count": 33
        }
      ]
    },
    {
      "cell_type": "markdown",
      "source": [
        "Chequeamos la predicción en los dos df, train y test: "
      ],
      "metadata": {
        "id": "KBNovHPkceUs"
      }
    },
    {
      "cell_type": "code",
      "source": [
        "y_train_pred = tree.predict(X_train) \n",
        "y_test_pred = tree.predict(X_test) \n",
        "X_test.head(3)"
      ],
      "metadata": {
        "colab": {
          "base_uri": "https://localhost:8080/",
          "height": 143
        },
        "id": "NwrJ40G0agJi",
        "outputId": "3a2b7a97-5251-4a06-c67a-d12b369bbecf"
      },
      "execution_count": null,
      "outputs": [
        {
          "output_type": "execute_result",
          "data": {
            "text/plain": [
              "    Age  Na_to_K  Sex_M  BP_LOW  BP_NORMAL  Cholesterol_NORMAL  Drug_drugA  \\\n",
              "95   36   11.424      1       1          0                   1           0   \n",
              "15   16   15.516      0       0          0                   1           0   \n",
              "30   18    8.750      0       0          1                   1           0   \n",
              "\n",
              "    Drug_drugB  Drug_drugC  \n",
              "95           0           0  \n",
              "15           0           0  \n",
              "30           0           0  "
            ],
            "text/html": [
              "\n",
              "  <div id=\"df-71c240a7-8d63-4bd9-afae-e848342fc573\">\n",
              "    <div class=\"colab-df-container\">\n",
              "      <div>\n",
              "<style scoped>\n",
              "    .dataframe tbody tr th:only-of-type {\n",
              "        vertical-align: middle;\n",
              "    }\n",
              "\n",
              "    .dataframe tbody tr th {\n",
              "        vertical-align: top;\n",
              "    }\n",
              "\n",
              "    .dataframe thead th {\n",
              "        text-align: right;\n",
              "    }\n",
              "</style>\n",
              "<table border=\"1\" class=\"dataframe\">\n",
              "  <thead>\n",
              "    <tr style=\"text-align: right;\">\n",
              "      <th></th>\n",
              "      <th>Age</th>\n",
              "      <th>Na_to_K</th>\n",
              "      <th>Sex_M</th>\n",
              "      <th>BP_LOW</th>\n",
              "      <th>BP_NORMAL</th>\n",
              "      <th>Cholesterol_NORMAL</th>\n",
              "      <th>Drug_drugA</th>\n",
              "      <th>Drug_drugB</th>\n",
              "      <th>Drug_drugC</th>\n",
              "    </tr>\n",
              "  </thead>\n",
              "  <tbody>\n",
              "    <tr>\n",
              "      <th>95</th>\n",
              "      <td>36</td>\n",
              "      <td>11.424</td>\n",
              "      <td>1</td>\n",
              "      <td>1</td>\n",
              "      <td>0</td>\n",
              "      <td>1</td>\n",
              "      <td>0</td>\n",
              "      <td>0</td>\n",
              "      <td>0</td>\n",
              "    </tr>\n",
              "    <tr>\n",
              "      <th>15</th>\n",
              "      <td>16</td>\n",
              "      <td>15.516</td>\n",
              "      <td>0</td>\n",
              "      <td>0</td>\n",
              "      <td>0</td>\n",
              "      <td>1</td>\n",
              "      <td>0</td>\n",
              "      <td>0</td>\n",
              "      <td>0</td>\n",
              "    </tr>\n",
              "    <tr>\n",
              "      <th>30</th>\n",
              "      <td>18</td>\n",
              "      <td>8.750</td>\n",
              "      <td>0</td>\n",
              "      <td>0</td>\n",
              "      <td>1</td>\n",
              "      <td>1</td>\n",
              "      <td>0</td>\n",
              "      <td>0</td>\n",
              "      <td>0</td>\n",
              "    </tr>\n",
              "  </tbody>\n",
              "</table>\n",
              "</div>\n",
              "      <button class=\"colab-df-convert\" onclick=\"convertToInteractive('df-71c240a7-8d63-4bd9-afae-e848342fc573')\"\n",
              "              title=\"Convert this dataframe to an interactive table.\"\n",
              "              style=\"display:none;\">\n",
              "        \n",
              "  <svg xmlns=\"http://www.w3.org/2000/svg\" height=\"24px\"viewBox=\"0 0 24 24\"\n",
              "       width=\"24px\">\n",
              "    <path d=\"M0 0h24v24H0V0z\" fill=\"none\"/>\n",
              "    <path d=\"M18.56 5.44l.94 2.06.94-2.06 2.06-.94-2.06-.94-.94-2.06-.94 2.06-2.06.94zm-11 1L8.5 8.5l.94-2.06 2.06-.94-2.06-.94L8.5 2.5l-.94 2.06-2.06.94zm10 10l.94 2.06.94-2.06 2.06-.94-2.06-.94-.94-2.06-.94 2.06-2.06.94z\"/><path d=\"M17.41 7.96l-1.37-1.37c-.4-.4-.92-.59-1.43-.59-.52 0-1.04.2-1.43.59L10.3 9.45l-7.72 7.72c-.78.78-.78 2.05 0 2.83L4 21.41c.39.39.9.59 1.41.59.51 0 1.02-.2 1.41-.59l7.78-7.78 2.81-2.81c.8-.78.8-2.07 0-2.86zM5.41 20L4 18.59l7.72-7.72 1.47 1.35L5.41 20z\"/>\n",
              "  </svg>\n",
              "      </button>\n",
              "      \n",
              "  <style>\n",
              "    .colab-df-container {\n",
              "      display:flex;\n",
              "      flex-wrap:wrap;\n",
              "      gap: 12px;\n",
              "    }\n",
              "\n",
              "    .colab-df-convert {\n",
              "      background-color: #E8F0FE;\n",
              "      border: none;\n",
              "      border-radius: 50%;\n",
              "      cursor: pointer;\n",
              "      display: none;\n",
              "      fill: #1967D2;\n",
              "      height: 32px;\n",
              "      padding: 0 0 0 0;\n",
              "      width: 32px;\n",
              "    }\n",
              "\n",
              "    .colab-df-convert:hover {\n",
              "      background-color: #E2EBFA;\n",
              "      box-shadow: 0px 1px 2px rgba(60, 64, 67, 0.3), 0px 1px 3px 1px rgba(60, 64, 67, 0.15);\n",
              "      fill: #174EA6;\n",
              "    }\n",
              "\n",
              "    [theme=dark] .colab-df-convert {\n",
              "      background-color: #3B4455;\n",
              "      fill: #D2E3FC;\n",
              "    }\n",
              "\n",
              "    [theme=dark] .colab-df-convert:hover {\n",
              "      background-color: #434B5C;\n",
              "      box-shadow: 0px 1px 3px 1px rgba(0, 0, 0, 0.15);\n",
              "      filter: drop-shadow(0px 1px 2px rgba(0, 0, 0, 0.3));\n",
              "      fill: #FFFFFF;\n",
              "    }\n",
              "  </style>\n",
              "\n",
              "      <script>\n",
              "        const buttonEl =\n",
              "          document.querySelector('#df-71c240a7-8d63-4bd9-afae-e848342fc573 button.colab-df-convert');\n",
              "        buttonEl.style.display =\n",
              "          google.colab.kernel.accessAllowed ? 'block' : 'none';\n",
              "\n",
              "        async function convertToInteractive(key) {\n",
              "          const element = document.querySelector('#df-71c240a7-8d63-4bd9-afae-e848342fc573');\n",
              "          const dataTable =\n",
              "            await google.colab.kernel.invokeFunction('convertToInteractive',\n",
              "                                                     [key], {});\n",
              "          if (!dataTable) return;\n",
              "\n",
              "          const docLinkHtml = 'Like what you see? Visit the ' +\n",
              "            '<a target=\"_blank\" href=https://colab.research.google.com/notebooks/data_table.ipynb>data table notebook</a>'\n",
              "            + ' to learn more about interactive tables.';\n",
              "          element.innerHTML = '';\n",
              "          dataTable['output_type'] = 'display_data';\n",
              "          await google.colab.output.renderOutput(dataTable, element);\n",
              "          const docLink = document.createElement('div');\n",
              "          docLink.innerHTML = docLinkHtml;\n",
              "          element.appendChild(docLink);\n",
              "        }\n",
              "      </script>\n",
              "    </div>\n",
              "  </div>\n",
              "  "
            ]
          },
          "metadata": {},
          "execution_count": 34
        }
      ]
    },
    {
      "cell_type": "markdown",
      "source": [
        "Finalmente obtenemos las métricas de evaluación de los dos df: "
      ],
      "metadata": {
        "id": "ymezLQKjcnGI"
      }
    },
    {
      "cell_type": "code",
      "source": [
        "train_accuracy = accuracy_score(y_train, y_train_pred)\n",
        "test_accuracy = accuracy_score(y_test, y_test_pred)\n",
        "\n",
        "print('% de aciertos sobre el set de entrenamiento:', train_accuracy)\n",
        "print('% de aciertos sobre el set de evaluación:',test_accuracy)"
      ],
      "metadata": {
        "colab": {
          "base_uri": "https://localhost:8080/"
        },
        "id": "GrwjCWtGancc",
        "outputId": "b102c40c-400f-4b5e-b42b-289fcb3ffb1a"
      },
      "execution_count": null,
      "outputs": [
        {
          "output_type": "stream",
          "name": "stdout",
          "text": [
            "% de aciertos sobre el set de entrenamiento: 0.925\n",
            "% de aciertos sobre el set de evaluación: 0.85\n"
          ]
        }
      ]
    },
    {
      "cell_type": "markdown",
      "source": [
        "#### Accuracy obtenido: 85%"
      ],
      "metadata": {
        "id": "MYE4XsIWctRn"
      }
    },
    {
      "cell_type": "markdown",
      "source": [
        "Alojamos los valores alcanzados:"
      ],
      "metadata": {
        "id": "ZU1XBbZnkHcW"
      }
    },
    {
      "cell_type": "code",
      "source": [
        "result_dict_test[\"Arboles Default Test Score\"] = accuracy_score(y_test, y_test_pred)"
      ],
      "metadata": {
        "id": "0uLOl543ijZ0"
      },
      "execution_count": null,
      "outputs": []
    },
    {
      "cell_type": "markdown",
      "source": [
        "### Clasificación por KNN\n"
      ],
      "metadata": {
        "id": "twxB-mIRcylw"
      }
    },
    {
      "cell_type": "markdown",
      "source": [
        "Habiendo testeado los datos con la clasificación por arboles de decisión, probaremos este método que busca clasificar los datos según puntos de cercanía. "
      ],
      "metadata": {
        "id": "f0kIxFLhdFHD"
      }
    },
    {
      "cell_type": "markdown",
      "source": [
        "Utilizamos los conjuntos de datos creados previamente, y armamos el modelo: "
      ],
      "metadata": {
        "id": "rG5rhkHjdUDL"
      }
    },
    {
      "cell_type": "code",
      "source": [
        "knn = KNeighborsClassifier()\n",
        "accuracies = cross_val_score(knn, X_train, y_train, cv=5)\n",
        "knn.fit(X_train,y_train)\n"
      ],
      "metadata": {
        "colab": {
          "base_uri": "https://localhost:8080/"
        },
        "id": "319hUzevdUQr",
        "outputId": "963f381c-bcc6-47f4-d932-c3806bb6f482"
      },
      "execution_count": null,
      "outputs": [
        {
          "output_type": "stream",
          "name": "stderr",
          "text": [
            "/usr/local/lib/python3.7/dist-packages/sklearn/neighbors/_classification.py:198: DataConversionWarning: A column-vector y was passed when a 1d array was expected. Please change the shape of y to (n_samples,), for example using ravel().\n",
            "  return self._fit(X, y)\n",
            "/usr/local/lib/python3.7/dist-packages/sklearn/neighbors/_classification.py:198: DataConversionWarning: A column-vector y was passed when a 1d array was expected. Please change the shape of y to (n_samples,), for example using ravel().\n",
            "  return self._fit(X, y)\n",
            "/usr/local/lib/python3.7/dist-packages/sklearn/neighbors/_classification.py:198: DataConversionWarning: A column-vector y was passed when a 1d array was expected. Please change the shape of y to (n_samples,), for example using ravel().\n",
            "  return self._fit(X, y)\n",
            "/usr/local/lib/python3.7/dist-packages/sklearn/neighbors/_classification.py:198: DataConversionWarning: A column-vector y was passed when a 1d array was expected. Please change the shape of y to (n_samples,), for example using ravel().\n",
            "  return self._fit(X, y)\n",
            "/usr/local/lib/python3.7/dist-packages/sklearn/neighbors/_classification.py:198: DataConversionWarning: A column-vector y was passed when a 1d array was expected. Please change the shape of y to (n_samples,), for example using ravel().\n",
            "  return self._fit(X, y)\n",
            "/usr/local/lib/python3.7/dist-packages/sklearn/neighbors/_classification.py:198: DataConversionWarning: A column-vector y was passed when a 1d array was expected. Please change the shape of y to (n_samples,), for example using ravel().\n",
            "  return self._fit(X, y)\n"
          ]
        },
        {
          "output_type": "execute_result",
          "data": {
            "text/plain": [
              "KNeighborsClassifier()"
            ]
          },
          "metadata": {},
          "execution_count": 37
        }
      ]
    },
    {
      "cell_type": "code",
      "source": [
        "print(\"% de aciertos sobre el set de entrenamiento:\",np.mean(accuracies))\n",
        "print(\"% de aciertos sobre el set de evaluación:\",knn.score(X_test,y_test))"
      ],
      "metadata": {
        "colab": {
          "base_uri": "https://localhost:8080/"
        },
        "id": "DYkvzyuXdxf5",
        "outputId": "6df4a96e-d234-4840-ae75-ada145b79c35"
      },
      "execution_count": null,
      "outputs": [
        {
          "output_type": "stream",
          "name": "stdout",
          "text": [
            "% de aciertos sobre el set de entrenamiento: 0.7125\n",
            "% de aciertos sobre el set de evaluación: 0.75\n"
          ]
        }
      ]
    },
    {
      "cell_type": "markdown",
      "source": [
        "#### Accuracy obtenido: 75%"
      ],
      "metadata": {
        "id": "vbk9kjcDd8yh"
      }
    },
    {
      "cell_type": "markdown",
      "source": [
        "Alojamos los valores alcanzados:"
      ],
      "metadata": {
        "id": "omiKNbESkNGm"
      }
    },
    {
      "cell_type": "code",
      "source": [
        "result_dict_test[\"KNN Default Test Score\"] = knn.score(X_test,y_test)"
      ],
      "metadata": {
        "id": "Gtlwun5ujhe_"
      },
      "execution_count": null,
      "outputs": []
    },
    {
      "cell_type": "markdown",
      "source": [
        "### Random forest\n"
      ],
      "metadata": {
        "id": "ejOWSWw3eKKK"
      }
    },
    {
      "cell_type": "markdown",
      "source": [
        "Esta técnica combina distintos modelos de árboles de decisión. Se considera que, dado que el objetivo de la empresa es conocer cuáles son los pacientes que reciben cada tipo de droga y **no predecir** cuál recibirán, es un método que resulta de utilidad. "
      ],
      "metadata": {
        "id": "aGJjg1mDfm1_"
      }
    },
    {
      "cell_type": "markdown",
      "source": [
        "Nuevamente, se emplean los conjuntos de datos de entrenamiento y test previamente definidos y se construye el algoritmo. "
      ],
      "metadata": {
        "id": "uSCGvOUJgVnm"
      }
    },
    {
      "cell_type": "code",
      "source": [
        "rfc = RandomForestClassifier(random_state = 42)\n",
        "accuracies = cross_val_score(rfc, X_train, y_train, cv=5)\n",
        "rfc.fit(X_train,y_train)"
      ],
      "metadata": {
        "colab": {
          "base_uri": "https://localhost:8080/"
        },
        "id": "3kEyzZ0Rhvcv",
        "outputId": "c55356cd-1422-4303-f276-cc2c41923809"
      },
      "execution_count": null,
      "outputs": [
        {
          "output_type": "stream",
          "name": "stderr",
          "text": [
            "/usr/local/lib/python3.7/dist-packages/sklearn/model_selection/_validation.py:680: DataConversionWarning: A column-vector y was passed when a 1d array was expected. Please change the shape of y to (n_samples,), for example using ravel().\n",
            "  estimator.fit(X_train, y_train, **fit_params)\n",
            "/usr/local/lib/python3.7/dist-packages/sklearn/model_selection/_validation.py:680: DataConversionWarning: A column-vector y was passed when a 1d array was expected. Please change the shape of y to (n_samples,), for example using ravel().\n",
            "  estimator.fit(X_train, y_train, **fit_params)\n",
            "/usr/local/lib/python3.7/dist-packages/sklearn/model_selection/_validation.py:680: DataConversionWarning: A column-vector y was passed when a 1d array was expected. Please change the shape of y to (n_samples,), for example using ravel().\n",
            "  estimator.fit(X_train, y_train, **fit_params)\n",
            "/usr/local/lib/python3.7/dist-packages/sklearn/model_selection/_validation.py:680: DataConversionWarning: A column-vector y was passed when a 1d array was expected. Please change the shape of y to (n_samples,), for example using ravel().\n",
            "  estimator.fit(X_train, y_train, **fit_params)\n",
            "/usr/local/lib/python3.7/dist-packages/sklearn/model_selection/_validation.py:680: DataConversionWarning: A column-vector y was passed when a 1d array was expected. Please change the shape of y to (n_samples,), for example using ravel().\n",
            "  estimator.fit(X_train, y_train, **fit_params)\n",
            "/usr/local/lib/python3.7/dist-packages/ipykernel_launcher.py:3: DataConversionWarning: A column-vector y was passed when a 1d array was expected. Please change the shape of y to (n_samples,), for example using ravel().\n",
            "  This is separate from the ipykernel package so we can avoid doing imports until\n"
          ]
        },
        {
          "output_type": "execute_result",
          "data": {
            "text/plain": [
              "RandomForestClassifier(random_state=42)"
            ]
          },
          "metadata": {},
          "execution_count": 40
        }
      ]
    },
    {
      "cell_type": "markdown",
      "source": [
        "Se evalúan los resultados alcanzados: "
      ],
      "metadata": {
        "id": "VbkscbUbh5UO"
      }
    },
    {
      "cell_type": "code",
      "source": [
        "print(\"% de aciertos sobre el set de entrenamiento:\",np.mean(accuracies))\n",
        "print(\"% de aciertos sobre el set de evaluación:\",rfc.score(X_test,y_test))"
      ],
      "metadata": {
        "colab": {
          "base_uri": "https://localhost:8080/"
        },
        "id": "J31pqiIXh5np",
        "outputId": "b1d22b96-3101-453c-ec41-591e56090b81"
      },
      "execution_count": null,
      "outputs": [
        {
          "output_type": "stream",
          "name": "stdout",
          "text": [
            "% de aciertos sobre el set de entrenamiento: 0.99375\n",
            "% de aciertos sobre el set de evaluación: 1.0\n"
          ]
        }
      ]
    },
    {
      "cell_type": "markdown",
      "source": [
        "#### Accuracy obtenido: 100%"
      ],
      "metadata": {
        "id": "JTSMae_eiFYb"
      }
    },
    {
      "cell_type": "markdown",
      "source": [
        "Alojamos los valores alcanzados:"
      ],
      "metadata": {
        "id": "ISUJHuLgkO9m"
      }
    },
    {
      "cell_type": "code",
      "source": [
        "result_dict_test[\"Random Forest Default Test Score\"] = rfc.score(X_test,y_test)"
      ],
      "metadata": {
        "id": "3ckDoiBwjmOI"
      },
      "execution_count": null,
      "outputs": []
    },
    {
      "cell_type": "markdown",
      "source": [
        "### SVM: Máquinas de soporte vectorial"
      ],
      "metadata": {
        "id": "tUqnbmMogjGq"
      }
    },
    {
      "cell_type": "markdown",
      "source": [
        "Finalmente, se prueba este último algoritmo que se fundamenta en la construcción de hiperplanos de segmentación. "
      ],
      "metadata": {
        "id": "6WJ7gl3phX7Q"
      }
    },
    {
      "cell_type": "markdown",
      "source": [
        "Se utilizan los conjuntos de datos previamente definidos: "
      ],
      "metadata": {
        "id": "uA1mPtdMhiki"
      }
    },
    {
      "cell_type": "code",
      "source": [
        "svc = SVC(random_state = 42)\n",
        "accuracies = cross_val_score(svc, X_train, y_train, cv=5)\n",
        "svc.fit(X_train,y_train)"
      ],
      "metadata": {
        "colab": {
          "base_uri": "https://localhost:8080/"
        },
        "id": "B_6qKvt8gFhE",
        "outputId": "95a842a8-1119-48d8-c087-3ae491dd4347"
      },
      "execution_count": null,
      "outputs": [
        {
          "output_type": "stream",
          "name": "stderr",
          "text": [
            "/usr/local/lib/python3.7/dist-packages/sklearn/utils/validation.py:993: DataConversionWarning: A column-vector y was passed when a 1d array was expected. Please change the shape of y to (n_samples, ), for example using ravel().\n",
            "  y = column_or_1d(y, warn=True)\n",
            "/usr/local/lib/python3.7/dist-packages/sklearn/utils/validation.py:993: DataConversionWarning: A column-vector y was passed when a 1d array was expected. Please change the shape of y to (n_samples, ), for example using ravel().\n",
            "  y = column_or_1d(y, warn=True)\n",
            "/usr/local/lib/python3.7/dist-packages/sklearn/utils/validation.py:993: DataConversionWarning: A column-vector y was passed when a 1d array was expected. Please change the shape of y to (n_samples, ), for example using ravel().\n",
            "  y = column_or_1d(y, warn=True)\n",
            "/usr/local/lib/python3.7/dist-packages/sklearn/utils/validation.py:993: DataConversionWarning: A column-vector y was passed when a 1d array was expected. Please change the shape of y to (n_samples, ), for example using ravel().\n",
            "  y = column_or_1d(y, warn=True)\n",
            "/usr/local/lib/python3.7/dist-packages/sklearn/utils/validation.py:993: DataConversionWarning: A column-vector y was passed when a 1d array was expected. Please change the shape of y to (n_samples, ), for example using ravel().\n",
            "  y = column_or_1d(y, warn=True)\n",
            "/usr/local/lib/python3.7/dist-packages/sklearn/utils/validation.py:993: DataConversionWarning: A column-vector y was passed when a 1d array was expected. Please change the shape of y to (n_samples, ), for example using ravel().\n",
            "  y = column_or_1d(y, warn=True)\n"
          ]
        },
        {
          "output_type": "execute_result",
          "data": {
            "text/plain": [
              "SVC(random_state=42)"
            ]
          },
          "metadata": {},
          "execution_count": 43
        }
      ]
    },
    {
      "cell_type": "markdown",
      "source": [
        "Se evalúan los resultados alcanzados: "
      ],
      "metadata": {
        "id": "jHirAxkKgd89"
      }
    },
    {
      "cell_type": "code",
      "source": [
        "print(\"% de aciertos sobre el set de entrenamiento:\",np.mean(accuracies))\n",
        "print(\"% de aciertos sobre el set de evaluación:\",svc.score(X_test,y_test))"
      ],
      "metadata": {
        "colab": {
          "base_uri": "https://localhost:8080/"
        },
        "id": "stcqcZesgPR2",
        "outputId": "d42039a9-bec6-4b49-d164-4c5286ae49e4"
      },
      "execution_count": null,
      "outputs": [
        {
          "output_type": "stream",
          "name": "stdout",
          "text": [
            "% de aciertos sobre el set de entrenamiento: 0.73125\n",
            "% de aciertos sobre el set de evaluación: 0.725\n"
          ]
        }
      ]
    },
    {
      "cell_type": "markdown",
      "source": [
        "#### Accuracy obtenido: 73%"
      ],
      "metadata": {
        "id": "jyM9v_cvggQK"
      }
    },
    {
      "cell_type": "markdown",
      "source": [
        "Alojamos los valores alcanzados:"
      ],
      "metadata": {
        "id": "q0pXdKoRkS-f"
      }
    },
    {
      "cell_type": "code",
      "source": [
        "result_dict_test[\"SVM Default Test Score\"] = svc.score(X_test,y_test)"
      ],
      "metadata": {
        "id": "je2cIbFFjokO"
      },
      "execution_count": null,
      "outputs": []
    },
    {
      "cell_type": "markdown",
      "source": [
        "## Conclusiones"
      ],
      "metadata": {
        "id": "HVV0mMGSiXMF"
      }
    },
    {
      "cell_type": "markdown",
      "source": [
        "Habiendo evaluado los distintos algoritmos de clasificación, evaluamos los puntajes alcanzados en el **porcentaje de casos acertados** sobre el conjunto de datos testing:"
      ],
      "metadata": {
        "id": "9V2j0lggkTzx"
      }
    },
    {
      "cell_type": "code",
      "source": [
        "df_result_test = pd.DataFrame.from_dict(result_dict_test,orient = \"index\",columns=[\"Score\"])\n",
        "df_result_test"
      ],
      "metadata": {
        "colab": {
          "base_uri": "https://localhost:8080/",
          "height": 175
        },
        "id": "5egPDeCShk8p",
        "outputId": "dbfc14c5-3718-4370-ba9f-5f81ac59c190"
      },
      "execution_count": null,
      "outputs": [
        {
          "output_type": "execute_result",
          "data": {
            "text/plain": [
              "                                  Score\n",
              "Arboles Default Test Score        0.850\n",
              "KNN Default Test Score            0.750\n",
              "Random Forest Default Test Score  1.000\n",
              "SVM Default Test Score            0.725"
            ],
            "text/html": [
              "\n",
              "  <div id=\"df-eda50bdc-1cff-4be2-9e96-23f707e1fca6\">\n",
              "    <div class=\"colab-df-container\">\n",
              "      <div>\n",
              "<style scoped>\n",
              "    .dataframe tbody tr th:only-of-type {\n",
              "        vertical-align: middle;\n",
              "    }\n",
              "\n",
              "    .dataframe tbody tr th {\n",
              "        vertical-align: top;\n",
              "    }\n",
              "\n",
              "    .dataframe thead th {\n",
              "        text-align: right;\n",
              "    }\n",
              "</style>\n",
              "<table border=\"1\" class=\"dataframe\">\n",
              "  <thead>\n",
              "    <tr style=\"text-align: right;\">\n",
              "      <th></th>\n",
              "      <th>Score</th>\n",
              "    </tr>\n",
              "  </thead>\n",
              "  <tbody>\n",
              "    <tr>\n",
              "      <th>Arboles Default Test Score</th>\n",
              "      <td>0.850</td>\n",
              "    </tr>\n",
              "    <tr>\n",
              "      <th>KNN Default Test Score</th>\n",
              "      <td>0.750</td>\n",
              "    </tr>\n",
              "    <tr>\n",
              "      <th>Random Forest Default Test Score</th>\n",
              "      <td>1.000</td>\n",
              "    </tr>\n",
              "    <tr>\n",
              "      <th>SVM Default Test Score</th>\n",
              "      <td>0.725</td>\n",
              "    </tr>\n",
              "  </tbody>\n",
              "</table>\n",
              "</div>\n",
              "      <button class=\"colab-df-convert\" onclick=\"convertToInteractive('df-eda50bdc-1cff-4be2-9e96-23f707e1fca6')\"\n",
              "              title=\"Convert this dataframe to an interactive table.\"\n",
              "              style=\"display:none;\">\n",
              "        \n",
              "  <svg xmlns=\"http://www.w3.org/2000/svg\" height=\"24px\"viewBox=\"0 0 24 24\"\n",
              "       width=\"24px\">\n",
              "    <path d=\"M0 0h24v24H0V0z\" fill=\"none\"/>\n",
              "    <path d=\"M18.56 5.44l.94 2.06.94-2.06 2.06-.94-2.06-.94-.94-2.06-.94 2.06-2.06.94zm-11 1L8.5 8.5l.94-2.06 2.06-.94-2.06-.94L8.5 2.5l-.94 2.06-2.06.94zm10 10l.94 2.06.94-2.06 2.06-.94-2.06-.94-.94-2.06-.94 2.06-2.06.94z\"/><path d=\"M17.41 7.96l-1.37-1.37c-.4-.4-.92-.59-1.43-.59-.52 0-1.04.2-1.43.59L10.3 9.45l-7.72 7.72c-.78.78-.78 2.05 0 2.83L4 21.41c.39.39.9.59 1.41.59.51 0 1.02-.2 1.41-.59l7.78-7.78 2.81-2.81c.8-.78.8-2.07 0-2.86zM5.41 20L4 18.59l7.72-7.72 1.47 1.35L5.41 20z\"/>\n",
              "  </svg>\n",
              "      </button>\n",
              "      \n",
              "  <style>\n",
              "    .colab-df-container {\n",
              "      display:flex;\n",
              "      flex-wrap:wrap;\n",
              "      gap: 12px;\n",
              "    }\n",
              "\n",
              "    .colab-df-convert {\n",
              "      background-color: #E8F0FE;\n",
              "      border: none;\n",
              "      border-radius: 50%;\n",
              "      cursor: pointer;\n",
              "      display: none;\n",
              "      fill: #1967D2;\n",
              "      height: 32px;\n",
              "      padding: 0 0 0 0;\n",
              "      width: 32px;\n",
              "    }\n",
              "\n",
              "    .colab-df-convert:hover {\n",
              "      background-color: #E2EBFA;\n",
              "      box-shadow: 0px 1px 2px rgba(60, 64, 67, 0.3), 0px 1px 3px 1px rgba(60, 64, 67, 0.15);\n",
              "      fill: #174EA6;\n",
              "    }\n",
              "\n",
              "    [theme=dark] .colab-df-convert {\n",
              "      background-color: #3B4455;\n",
              "      fill: #D2E3FC;\n",
              "    }\n",
              "\n",
              "    [theme=dark] .colab-df-convert:hover {\n",
              "      background-color: #434B5C;\n",
              "      box-shadow: 0px 1px 3px 1px rgba(0, 0, 0, 0.15);\n",
              "      filter: drop-shadow(0px 1px 2px rgba(0, 0, 0, 0.3));\n",
              "      fill: #FFFFFF;\n",
              "    }\n",
              "  </style>\n",
              "\n",
              "      <script>\n",
              "        const buttonEl =\n",
              "          document.querySelector('#df-eda50bdc-1cff-4be2-9e96-23f707e1fca6 button.colab-df-convert');\n",
              "        buttonEl.style.display =\n",
              "          google.colab.kernel.accessAllowed ? 'block' : 'none';\n",
              "\n",
              "        async function convertToInteractive(key) {\n",
              "          const element = document.querySelector('#df-eda50bdc-1cff-4be2-9e96-23f707e1fca6');\n",
              "          const dataTable =\n",
              "            await google.colab.kernel.invokeFunction('convertToInteractive',\n",
              "                                                     [key], {});\n",
              "          if (!dataTable) return;\n",
              "\n",
              "          const docLinkHtml = 'Like what you see? Visit the ' +\n",
              "            '<a target=\"_blank\" href=https://colab.research.google.com/notebooks/data_table.ipynb>data table notebook</a>'\n",
              "            + ' to learn more about interactive tables.';\n",
              "          element.innerHTML = '';\n",
              "          dataTable['output_type'] = 'display_data';\n",
              "          await google.colab.output.renderOutput(dataTable, element);\n",
              "          const docLink = document.createElement('div');\n",
              "          docLink.innerHTML = docLinkHtml;\n",
              "          element.appendChild(docLink);\n",
              "        }\n",
              "      </script>\n",
              "    </div>\n",
              "  </div>\n",
              "  "
            ]
          },
          "metadata": {},
          "execution_count": 46
        }
      ]
    },
    {
      "cell_type": "markdown",
      "source": [
        "Así, podemos observar que la mejor clasificación se alcanzó mediante la técnica de Random Forest. \n",
        "\n",
        "Si bien estos valores podrían dar cuenta de cierto overfitting, se observa que la segunda mejor métrica corresponde a la de arboles de decisión, quedando en evidencia que estos dos tipos de algortimos son los que presentan el mejor desempeño para clasificar los datos bajo análisis. "
      ],
      "metadata": {
        "id": "XBKUv0CQlBCU"
      }
    },
    {
      "cell_type": "markdown",
      "source": [
        "Instalamos el paquete Yellowbrick"
      ],
      "metadata": {
        "id": "l1diVQ6wQe6O"
      }
    },
    {
      "cell_type": "code",
      "source": [
        "!pip install yellowbrick"
      ],
      "metadata": {
        "colab": {
          "base_uri": "https://localhost:8080/"
        },
        "id": "PvBRc_eUQfMP",
        "outputId": "3870ab4d-f25a-42ed-ce4e-b05ed7fbbe41"
      },
      "execution_count": null,
      "outputs": [
        {
          "output_type": "stream",
          "name": "stdout",
          "text": [
            "Looking in indexes: https://pypi.org/simple, https://us-python.pkg.dev/colab-wheels/public/simple/\n",
            "Requirement already satisfied: yellowbrick in /usr/local/lib/python3.7/dist-packages (1.5)\n",
            "Requirement already satisfied: numpy>=1.16.0 in /usr/local/lib/python3.7/dist-packages (from yellowbrick) (1.21.6)\n",
            "Requirement already satisfied: cycler>=0.10.0 in /usr/local/lib/python3.7/dist-packages (from yellowbrick) (0.11.0)\n",
            "Requirement already satisfied: scipy>=1.0.0 in /usr/local/lib/python3.7/dist-packages (from yellowbrick) (1.7.3)\n",
            "Requirement already satisfied: scikit-learn>=1.0.0 in /usr/local/lib/python3.7/dist-packages (from yellowbrick) (1.0.2)\n",
            "Requirement already satisfied: matplotlib!=3.0.0,>=2.0.2 in /usr/local/lib/python3.7/dist-packages (from yellowbrick) (3.2.2)\n",
            "Requirement already satisfied: kiwisolver>=1.0.1 in /usr/local/lib/python3.7/dist-packages (from matplotlib!=3.0.0,>=2.0.2->yellowbrick) (1.4.4)\n",
            "Requirement already satisfied: pyparsing!=2.0.4,!=2.1.2,!=2.1.6,>=2.0.1 in /usr/local/lib/python3.7/dist-packages (from matplotlib!=3.0.0,>=2.0.2->yellowbrick) (3.0.9)\n",
            "Requirement already satisfied: python-dateutil>=2.1 in /usr/local/lib/python3.7/dist-packages (from matplotlib!=3.0.0,>=2.0.2->yellowbrick) (2.8.2)\n",
            "Requirement already satisfied: typing-extensions in /usr/local/lib/python3.7/dist-packages (from kiwisolver>=1.0.1->matplotlib!=3.0.0,>=2.0.2->yellowbrick) (4.1.1)\n",
            "Requirement already satisfied: six>=1.5 in /usr/local/lib/python3.7/dist-packages (from python-dateutil>=2.1->matplotlib!=3.0.0,>=2.0.2->yellowbrick) (1.15.0)\n",
            "Requirement already satisfied: joblib>=0.11 in /usr/local/lib/python3.7/dist-packages (from scikit-learn>=1.0.0->yellowbrick) (1.2.0)\n",
            "Requirement already satisfied: threadpoolctl>=2.0.0 in /usr/local/lib/python3.7/dist-packages (from scikit-learn>=1.0.0->yellowbrick) (3.1.0)\n"
          ]
        }
      ]
    },
    {
      "cell_type": "markdown",
      "source": [
        "Utilizamos el método Elbow"
      ],
      "metadata": {
        "id": "1as9DkRrQo6e"
      }
    },
    {
      "cell_type": "code",
      "source": [
        "from sklearn.cluster import KMeans\n",
        "from yellowbrick.cluster import KElbowVisualizer\n",
        "model = KMeans()\n",
        "visualizer = KElbowVisualizer(model, k=(4,14))\n",
        "visualizer.fit(X)  \n",
        "visualizer.show()"
      ],
      "metadata": {
        "colab": {
          "base_uri": "https://localhost:8080/",
          "height": 393
        },
        "id": "-Ik33ZKUQnTO",
        "outputId": "e0591320-2a75-42dd-cd16-56fa769aeaad"
      },
      "execution_count": null,
      "outputs": [
        {
          "output_type": "display_data",
          "data": {
            "text/plain": [
              "<Figure size 576x396 with 2 Axes>"
            ],
            "image/png": "[encoded data removed]"
          },
          "metadata": {}
        },
        {
          "output_type": "execute_result",
          "data": {
            "text/plain": [
              "<matplotlib.axes._subplots.AxesSubplot at 0x7fd53e09ae10>"
            ]
          },
          "metadata": {},
          "execution_count": 48
        }
      ]
    },
    {
      "cell_type": "code",
      "source": [
        "for n_clusters in range(2, 10):     #Creamos un subplot de 1 fila y 2 columnas\n",
        "    fig, (ax1, ax2) = plt.subplots(1, 2)\n",
        "    fig.set_size_inches(12, 6)\n",
        "    #El 1 subplot es para el score de silhouette \n",
        "    #El rango del Ind. silhouette es [-1, 1]\n",
        "    ax1.set_xlim([-0.1, 3]) # para nuestro caso lo vamos a dejar en este rango. El (n_clusters+1)*10 es para insertar un espacio en blanco entre la silueta y el grafico de la nube de puntos\n",
        "    ax1.set_ylim([0, len(X) + (n_clusters + 1) * 10]) #Iniciamos el proceso de ajuste a los datos\n",
        "    clusterer = KMeans(n_clusters=n_clusters,max_iter=1000, random_state=10)\n",
        "    cluster_labels = clusterer.fit_predict(X)     #El score de silhouette_score da el promedio de todos los valores \n",
        "    silhouette_avg = silhouette_score(X, cluster_labels)\n",
        "    print(\"Para n_clusters =\", n_clusters,\"El promedio del score de silhouette es: \", silhouette_avg) #Calculamos el score de silhouette para cada muestra \n",
        "    sample_silhouette_values = silhouette_samples(X, cluster_labels)\n",
        "    y_lower = 10\n",
        "    for i in range(n_clusters): #Agregamos los scores de silhouette para las muestras pertenecientes al cluster i y ordenarlos \n",
        "        ith_cluster_silhouette_values =sample_silhouette_values[cluster_labels == i]\n",
        "        ith_cluster_silhouette_values.sort() #Ordenamos\n",
        "        size_cluster_i = ith_cluster_silhouette_values.shape[0] #Vemos el tamaño de clusters\n",
        "        y_upper = y_lower + size_cluster_i \n",
        "        ax1.fill_betweenx(np.arange(y_lower, y_upper),  0, ith_cluster_silhouette_values, facecolor=color, edgecolor=color, alpha=0.7) #Etiquetamos las graficas de silhouette con sus miembros de cluster en el medio\n",
        "        ax1.text(-0.05, y_lower + 0.5 * size_cluster_i, str(i))\n",
        "        #Calculamos el nuevo y_lower para la proxima grafica\n",
        "        y_lower = y_upper + 10 \n",
        "    ax1.set_title(\"Grafico de silhouette para varios clusters.\")\n",
        "    ax1.set_xlabel(\"Coeficientes de silhouette\")\n",
        "    ax1.set_ylabel(\"Label del Cluster\")\n",
        "    #La linea vertical es para el promedio del score de silhouette de todos los valores\n",
        "    ax1.axvline(x=silhouette_avg, color=\"red\", linestyle=\"--\")\n",
        "    ax1.set_yticks([])  # Quitar labels en y \n",
        "    ax1.set_xticks([-0.1, 0, 0.2, 0.4, 0.6, 0.8, 1]) # definir ticks para comparacion\n",
        "\n",
        "    #2 graficamos mostrando los clusters formados \n",
        "    colors = cm.nipy_spectral(cluster_labels.astype(float) / n_clusters) #definimos\n",
        "    centers = clusterer.cluster_centers_     #Etiquetamos a los clusters   \n",
        "    ax2.scatter(centers[:, 0], centers[:, 1], marker='o',c=\"white\", alpha=1, s=200, edgecolor='k') #Dibujamos en color blanco los centroides de los clusters \n",
        "    # Enumeramos los centroides\n",
        "    for i, c in enumerate(centers):\n",
        "        ax2.scatter(c[0], c[1], marker='$%d$' % i, alpha=1,s=50, edgecolor='k')\n",
        "\n",
        "    ax2.set_title(\"Visualizacion luego de obtener clusters\")\n",
        "    ax2.set_xlabel(\"Reacciones\")\n",
        "    ax2.set_ylabel(\"Comentarios\")\n",
        "\n",
        "    plt.suptitle((\"Analisis de Silhouette para algoritmo de KMeans clustering \"\n",
        "                  \"con n_clusters = %d\" % n_clusters),\n",
        "                 fontsize=14, fontweight='bold')\n",
        "\n",
        "plt.show()"
      ],
      "metadata": {
        "colab": {
          "base_uri": "https://localhost:8080/",
          "height": 1000
        },
        "id": "2qNktfk4TRRe",
        "outputId": "491a3a6d-55f9-4c11-bc21-7258d6dff956"
      },
      "execution_count": null,
      "outputs": [
        {
          "output_type": "stream",
          "name": "stdout",
          "text": [
            "Para n_clusters = 2 El promedio del score de silhouette es:  0.49889816794069775\n",
            "Para n_clusters = 3 El promedio del score de silhouette es:  0.4091331836494977\n",
            "Para n_clusters = 4 El promedio del score de silhouette es:  0.4133139174440106\n",
            "Para n_clusters = 5 El promedio del score de silhouette es:  0.4092065637390806\n",
            "Para n_clusters = 6 El promedio del score de silhouette es:  0.40257743503312843\n",
            "Para n_clusters = 7 El promedio del score de silhouette es:  0.4107946665401506\n",
            "Para n_clusters = 8 El promedio del score de silhouette es:  0.4015114936987125\n",
            "Para n_clusters = 9 El promedio del score de silhouette es:  0.3988519166576653\n"
          ]
        },
        {
          "output_type": "display_data",
          "data": {
            "text/plain": [
              "<Figure size 864x432 with 2 Axes>"
            ],
            "image/png": "[encoded data removed]"
          },
          "metadata": {
            "needs_background": "light"
          }
        },
        {
          "output_type": "display_data",
          "data": {
            "text/plain": [
              "<Figure size 864x432 with 2 Axes>"
            ],
            "image/png": "[encoded data removed]"
          },
          "metadata": {
            "needs_background": "light"
          }
        },
        {
          "output_type": "display_data",
          "data": {
            "text/plain": [
              "<Figure size 864x432 with 2 Axes>"
            ],
            "image/png": "[encoded data removed]"
          },
          "metadata": {
            "needs_background": "light"
          }
        },
        {
          "output_type": "display_data",
          "data": {
            "text/plain": [
              "<Figure size 864x432 with 2 Axes>"
            ],
            "image/png": "[encoded data removed]"
          },
          "metadata": {
            "needs_background": "light"
          }
        },
        {
          "output_type": "display_data",
          "data": {
            "text/plain": [
              "<Figure size 864x432 with 2 Axes>"
            ],
            "image/png": "[encoded data removed]"
          },
          "metadata": {
            "needs_background": "light"
          }
        },
        {
          "output_type": "display_data",
          "data": {
            "text/plain": [
              "<Figure size 864x432 with 2 Axes>"
            ],
            "image/png": "[encoded data removed]"
          },
          "metadata": {
            "needs_background": "light"
          }
        },
        {
          "output_type": "display_data",
          "data": {
            "text/plain": [
              "<Figure size 864x432 with 2 Axes>"
            ],
            "image/png": "[encoded data removed]"
          },
          "metadata": {
            "needs_background": "light"
          }
        },
        {
          "output_type": "display_data",
          "data": {
            "text/plain": [
              "<Figure size 864x432 with 2 Axes>"
            ],
            "image/png": "[encoded data removed]"
          },
          "metadata": {
            "needs_background": "light"
          }
        }
      ]
    },
    {
      "cell_type": "markdown",
      "source": [
        "### Hypertuning Parametros\n"
      ],
      "metadata": {
        "id": "SypbyMeoRZD8"
      }
    },
    {
      "cell_type": "markdown",
      "source": [
        "Seleccion manual"
      ],
      "metadata": {
        "id": "3H9qXWNqSBIa"
      }
    },
    {
      "cell_type": "code",
      "source": [
        "model= xgb.XGBClassifier(learning_rate=0.001)\n",
        "# Lista de hiperparametros\n",
        "params_1 = {'criterion': 'gini', 'splitter': 'best', 'max_depth': 5}\n",
        "params_2 = {'criterion': 'entropy', 'splitter': 'random', 'max_depth': 7}\n",
        "params_3 = {'criterion': 'gini', 'splitter': 'random', 'max_depth': 10}"
      ],
      "metadata": {
        "id": "gLNbWn4pRZuE"
      },
      "execution_count": null,
      "outputs": []
    },
    {
      "cell_type": "code",
      "source": [
        "# Modelo 1\n",
        "model.set_params(**params_1).fit(X_train, y_train)\n",
        "print(f'Accuracy para Modelo 1 = {round(accuracy_score(y_test, model.predict(X_test)), 5)}')\n",
        "# Modelo 2\n",
        "model.set_params(**params_2).fit(X_train, y_train)\n",
        "print(f'Accuracy para Modelo 2 = {round(accuracy_score(y_test, model.predict(X_test)), 5)}')\n",
        "# Modelo 3\n",
        "model.set_params(**params_3).fit(X_train, y_train)\n",
        "print(f'Accuracy para Modelo 3 = {round(accuracy_score(y_test, model.predict(X_test)), 5)}')"
      ],
      "metadata": {
        "colab": {
          "base_uri": "https://localhost:8080/"
        },
        "id": "TTBi0hLjR4ZQ",
        "outputId": "2999fa30-b947-4e78-b8e4-b609ff04e5b8"
      },
      "execution_count": null,
      "outputs": [
        {
          "output_type": "stream",
          "name": "stdout",
          "text": [
            "Accuracy para Modelo 1 = 1.0\n",
            "Accuracy para Modelo 2 = 1.0\n",
            "Accuracy para Modelo 3 = 1.0\n"
          ]
        }
      ]
    },
    {
      "cell_type": "markdown",
      "source": [
        "Grid Search"
      ],
      "metadata": {
        "id": "9GN_98UHSEil"
      }
    },
    {
      "cell_type": "code",
      "source": [
        "params_grid = {\n",
        "        'min_child_weight': [1, 5],\n",
        "        'gamma': [0.5, 1],\n",
        "        'subsample': [0.6, 0.8],\n",
        "        'colsample_bytree': [0.6, 0.8],\n",
        "        'max_depth': [5,6],\n",
        "        'criterion':['entropy','gini']\n",
        "        }"
      ],
      "metadata": {
        "id": "B6m15Rv-R3ZM"
      },
      "execution_count": null,
      "outputs": []
    },
    {
      "cell_type": "code",
      "source": [
        "# tiempo de ejecución (20 seg)\n",
        "grid_cv = GridSearchCV(model, params_grid, scoring=\"accuracy\", n_jobs=-1, cv=3)\n",
        "grid_cv.fit(X_train, y_train)\n",
        "print(\"Mejores Parametros\", grid_cv.best_params_)\n",
        "print(f'Accuracy del modelo = {round(accuracy_score(y_test, grid_cv.predict(X_test)), 5)}')"
      ],
      "metadata": {
        "colab": {
          "base_uri": "https://localhost:8080/"
        },
        "id": "jQ_u-tOmR9dh",
        "outputId": "9f166031-6fa2-4d2b-951a-4d1243034639"
      },
      "execution_count": null,
      "outputs": [
        {
          "output_type": "stream",
          "name": "stdout",
          "text": [
            "Mejores Parametros {'colsample_bytree': 0.8, 'criterion': 'entropy', 'gamma': 0.5, 'max_depth': 5, 'min_child_weight': 1, 'subsample': 0.8}\n",
            "Accuracy del modelo = 1.0\n"
          ]
        }
      ]
    },
    {
      "cell_type": "code",
      "source": [
        "# tiempo de ejecució 7 seg\n",
        "grid_cv = RandomizedSearchCV(model, params_grid, scoring=\"accuracy\", n_jobs=-1, cv=3)\n",
        "grid_cv.fit(X_train, y_train)\n",
        "\n",
        "print(\"Mejores parametros\", grid_cv.best_params_)\n",
        "print(f'Accuracy del modelo = {round(accuracy_score(y_test, grid_cv.predict(X_test)), 5)}')"
      ],
      "metadata": {
        "colab": {
          "base_uri": "https://localhost:8080/"
        },
        "id": "46KwYT3wSI8Z",
        "outputId": "81ec93cd-177e-4739-be7b-a6f938729555"
      },
      "execution_count": null,
      "outputs": [
        {
          "output_type": "stream",
          "name": "stdout",
          "text": [
            "Mejores parametros {'subsample': 0.8, 'min_child_weight': 1, 'max_depth': 5, 'gamma': 0.5, 'criterion': 'gini', 'colsample_bytree': 0.8}\n",
            "Accuracy del modelo = 1.0\n"
          ]
        }
      ]
    },
    {
      "cell_type": "markdown",
      "source": [
        "Halving Grid Search"
      ],
      "metadata": {
        "id": "Lme1jyefSVC6"
      }
    },
    {
      "cell_type": "code",
      "source": [
        "# tiempo de ejecución 20 seg\n",
        "halving_cv = HalvingGridSearchCV(model, params_grid, scoring=\"accuracy\", factor=3)\n",
        "halving_cv.fit(X_train, y_train)\n",
        "\n",
        "print(\"Mejores parametros\", halving_cv.best_params_)\n",
        "print(f'Accuracy del modelo = {round(accuracy_score(y_test, halving_cv.predict(X_test)), 5)}')"
      ],
      "metadata": {
        "colab": {
          "base_uri": "https://localhost:8080/"
        },
        "id": "Iiby1GpdSSSu",
        "outputId": "dcc1efd3-5d0c-44c1-a09f-ad8716dde6f2"
      },
      "execution_count": null,
      "outputs": [
        {
          "output_type": "stream",
          "name": "stdout",
          "text": [
            "Mejores parametros {'colsample_bytree': 0.8, 'criterion': 'gini', 'gamma': 1, 'max_depth': 6, 'min_child_weight': 1, 'subsample': 0.8}\n",
            "Accuracy del modelo = 1.0\n"
          ]
        }
      ]
    },
    {
      "cell_type": "markdown",
      "source": [
        "Halving Randomized Search"
      ],
      "metadata": {
        "id": "bKm0igQYSeG0"
      }
    },
    {
      "cell_type": "code",
      "source": [
        "# tiempo de ejecución 13 seg\n",
        "halving_cv = HalvingRandomSearchCV(model, params_grid, scoring=\"accuracy\", factor=3)\n",
        "halving_cv.fit(X_train, y_train)\n",
        "\n",
        "print(\"Mejores parametros\", halving_cv.best_params_)\n",
        "print(f'Accuracy del modelo = {round(accuracy_score(y_test, halving_cv.predict(X_test)), 5)}')"
      ],
      "metadata": {
        "colab": {
          "base_uri": "https://localhost:8080/"
        },
        "id": "KIcnkqrPSfUy",
        "outputId": "43211286-4c15-44fe-aa5f-0f27e8c7bc75"
      },
      "execution_count": null,
      "outputs": [
        {
          "output_type": "stream",
          "name": "stdout",
          "text": [
            "Mejores parametros {'subsample': 0.8, 'min_child_weight': 1, 'max_depth': 6, 'gamma': 0.5, 'criterion': 'entropy', 'colsample_bytree': 0.8}\n",
            "Accuracy del modelo = 1.0\n"
          ]
        }
      ]
    },
    {
      "cell_type": "markdown",
      "source": [
        "Halving Randomized Search"
      ],
      "metadata": {
        "id": "6xbV-wXnS0MH"
      }
    },
    {
      "cell_type": "code",
      "source": [
        "# tiempo de ejecución 13 seg\n",
        "halving_cv = HalvingRandomSearchCV(model, params_grid, scoring=\"accuracy\", factor=3)\n",
        "halving_cv.fit(X_train, y_train)\n",
        "\n",
        "print(\"Mejores parametros\", halving_cv.best_params_)\n",
        "print(f'Accuracy del modelo = {round(accuracy_score(y_test, halving_cv.predict(X_test)), 5)}')"
      ],
      "metadata": {
        "colab": {
          "base_uri": "https://localhost:8080/"
        },
        "id": "9PHRbFj5S3qh",
        "outputId": "9fae24ff-0aeb-4aa2-dafb-0f529722a05a"
      },
      "execution_count": null,
      "outputs": [
        {
          "output_type": "stream",
          "name": "stdout",
          "text": [
            "Mejores parametros {'subsample': 0.8, 'min_child_weight': 1, 'max_depth': 5, 'gamma': 1, 'criterion': 'entropy', 'colsample_bytree': 0.8}\n",
            "Accuracy del modelo = 1.0\n"
          ]
        }
      ]
    }
  ]
}