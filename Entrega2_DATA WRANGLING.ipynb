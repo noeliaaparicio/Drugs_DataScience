{
  "nbformat": 4,
  "nbformat_minor": 0,
  "metadata": {
    "colab": {
      "name": "wrangling.ipynb",
      "provenance": [],
      "collapsed_sections": []
    },
    "kernelspec": {
      "name": "python3",
      "display_name": "Python 3"
    },
    "language_info": {
      "name": "python"
    }
  },
  "cells": [
    {
      "cell_type": "markdown",
      "source": [
        "# Desafío Wrangling\n",
        "\n",
        "Grupo 8: Melina Schamberger, Noelia Aparicio y Natasha Siderman"
      ],
      "metadata": {
        "id": "czmhKcR9BByU"
      }
    },
    {
      "cell_type": "code",
      "execution_count": null,
      "metadata": {
        "id": "oY-LgEelC99w"
      },
      "outputs": [],
      "source": [
        "#Importamos librerías\n",
        "import pandas as pd\n",
        "import numpy as np"
      ]
    },
    {
      "cell_type": "code",
      "source": [
        "#Leemos los datos\n",
        "p = pd.read_csv(\"p_data.csv\",  sep = ';')\n",
        "w = pd.read_csv(\"w_data.csv\", sep = ';')"
      ],
      "metadata": {
        "id": "7MqoLHMUEXOx"
      },
      "execution_count": null,
      "outputs": []
    },
    {
      "cell_type": "code",
      "source": [
        "p.head(6)\n",
        "p.info"
      ],
      "metadata": {
        "colab": {
          "base_uri": "https://localhost:8080/"
        },
        "id": "eBd1vf2QEjZJ",
        "outputId": "1661b6fa-9584-4d11-98e1-83ed07910759"
      },
      "execution_count": null,
      "outputs": [
        {
          "output_type": "execute_result",
          "data": {
            "text/plain": [
              "<bound method DataFrame.info of         Age      Sex          ID                 Race         Country  \\\n",
              "0      39.0     Male       49084                White   United-States   \n",
              "1      50.0     Male       68553                White   United-States   \n",
              "2      38.0     Male      143654                White   United-States   \n",
              "3      53.0     Male       41510                Black   United-States   \n",
              "4      28.0   Female      195025                Black            Cuba   \n",
              "...     ...      ...         ...                  ...             ...   \n",
              "48837  33.0     Male   597186815                White   United-States   \n",
              "48838  39.0   Female   735617153                White   United-States   \n",
              "48839  64.0     Male  1131807446                Black   United-States   \n",
              "48840  38.0     Male   781422087                White   United-States   \n",
              "48841  44.0     Male   161771296   Asian-Pac-Islander   United-States   \n",
              "\n",
              "        Education  Education-Num       Marital Status     Relationship  \n",
              "0       Bachelors           13.0        Never-married    Not-in-family  \n",
              "1       Bachelors           13.0   Married-civ-spouse          Husband  \n",
              "2         HS-grad            9.0             Divorced    Not-in-family  \n",
              "3            11th            7.0   Married-civ-spouse          Husband  \n",
              "4       Bachelors           13.0   Married-civ-spouse             Wife  \n",
              "...           ...            ...                  ...              ...  \n",
              "48837   Bachelors           13.0        Never-married        Own-child  \n",
              "48838   Bachelors           13.0             Divorced    Not-in-family  \n",
              "48839     HS-grad            9.0              Widowed   Other-relative  \n",
              "48840   Bachelors           13.0   Married-civ-spouse          Husband  \n",
              "48841   Bachelors           13.0             Divorced        Own-child  \n",
              "\n",
              "[48842 rows x 9 columns]>"
            ]
          },
          "metadata": {},
          "execution_count": 71
        }
      ]
    },
    {
      "cell_type": "code",
      "source": [
        "w.head(6)\n",
        "w.info\n"
      ],
      "metadata": {
        "colab": {
          "base_uri": "https://localhost:8080/"
        },
        "id": "N6aC9o_1E8p1",
        "outputId": "07aef253-92ce-4e1d-c8d3-a0b4d7481575"
      },
      "execution_count": null,
      "outputs": [
        {
          "output_type": "execute_result",
          "data": {
            "text/plain": [
              "<bound method DataFrame.info of                Workclass    fnlwgt  Capital Gain  Capital Loss  \\\n",
              "0              State-gov   77516.0        2174.0           0.0   \n",
              "1       Self-emp-not-inc   83311.0           0.0           0.0   \n",
              "2                Private  215646.0           0.0           0.0   \n",
              "3                Private  234721.0           0.0           0.0   \n",
              "4                Private  338409.0           0.0           0.0   \n",
              "...                  ...       ...           ...           ...   \n",
              "48838            Private  215419.0           0.0           0.0   \n",
              "48839                  ?  321403.0           0.0           0.0   \n",
              "48840            Private  374983.0           0.0           0.0   \n",
              "48841            Private   83891.0        5455.0           0.0   \n",
              "48842       Self-emp-inc  182148.0           0.0           0.0   \n",
              "\n",
              "       Hours per week          ID   Target  \n",
              "0                40.0       49084    <=50K  \n",
              "1                13.0       68553    <=50K  \n",
              "2                40.0      143654    <=50K  \n",
              "3                40.0       41510    <=50K  \n",
              "4                40.0      195025    <=50K  \n",
              "...               ...         ...      ...  \n",
              "48838            36.0   735617153   <=50K.  \n",
              "48839            40.0  1131807446   <=50K.  \n",
              "48840            50.0   781422087   <=50K.  \n",
              "48841            40.0   161771296   <=50K.  \n",
              "48842            60.0  1344995623    >50K.  \n",
              "\n",
              "[48843 rows x 7 columns]>"
            ]
          },
          "metadata": {},
          "execution_count": 72
        }
      ]
    },
    {
      "cell_type": "code",
      "source": [
        "# Consigna 1: \n",
        "df = pd.merge(p,w, how = 'right', on = ['ID'])\n",
        "df.head(6)\n"
      ],
      "metadata": {
        "colab": {
          "base_uri": "https://localhost:8080/",
          "height": 510
        },
        "id": "VGC08pS4FAVU",
        "outputId": "edaa114d-2bdc-4101-9ece-3c15d38ad25c"
      },
      "execution_count": null,
      "outputs": [
        {
          "output_type": "execute_result",
          "data": {
            "text/plain": [
              "    Age      Sex      ID    Race         Country   Education  Education-Num  \\\n",
              "0  39.0     Male   49084   White   United-States   Bachelors           13.0   \n",
              "1  50.0     Male   68553   White   United-States   Bachelors           13.0   \n",
              "2  38.0     Male  143654   White   United-States     HS-grad            9.0   \n",
              "3  53.0     Male   41510   Black   United-States        11th            7.0   \n",
              "4  28.0   Female  195025   Black            Cuba   Bachelors           13.0   \n",
              "5  37.0   Female  231557   White   United-States     Masters           14.0   \n",
              "\n",
              "        Marital Status    Relationship          Workclass    fnlwgt  \\\n",
              "0        Never-married   Not-in-family          State-gov   77516.0   \n",
              "1   Married-civ-spouse         Husband   Self-emp-not-inc   83311.0   \n",
              "2             Divorced   Not-in-family            Private  215646.0   \n",
              "3   Married-civ-spouse         Husband            Private  234721.0   \n",
              "4   Married-civ-spouse            Wife            Private  338409.0   \n",
              "5   Married-civ-spouse            Wife            Private  284582.0   \n",
              "\n",
              "   Capital Gain  Capital Loss  Hours per week  Target  \n",
              "0        2174.0           0.0            40.0   <=50K  \n",
              "1           0.0           0.0            13.0   <=50K  \n",
              "2           0.0           0.0            40.0   <=50K  \n",
              "3           0.0           0.0            40.0   <=50K  \n",
              "4           0.0           0.0            40.0   <=50K  \n",
              "5           0.0           0.0            40.0   <=50K  "
            ],
            "text/html": [
              "\n",
              "  <div id=\"df-dd76f7be-c6fe-4c10-ba82-d5c9da7b27b6\">\n",
              "    <div class=\"colab-df-container\">\n",
              "      <div>\n",
              "<style scoped>\n",
              "    .dataframe tbody tr th:only-of-type {\n",
              "        vertical-align: middle;\n",
              "    }\n",
              "\n",
              "    .dataframe tbody tr th {\n",
              "        vertical-align: top;\n",
              "    }\n",
              "\n",
              "    .dataframe thead th {\n",
              "        text-align: right;\n",
              "    }\n",
              "</style>\n",
              "<table border=\"1\" class=\"dataframe\">\n",
              "  <thead>\n",
              "    <tr style=\"text-align: right;\">\n",
              "      <th></th>\n",
              "      <th>Age</th>\n",
              "      <th>Sex</th>\n",
              "      <th>ID</th>\n",
              "      <th>Race</th>\n",
              "      <th>Country</th>\n",
              "      <th>Education</th>\n",
              "      <th>Education-Num</th>\n",
              "      <th>Marital Status</th>\n",
              "      <th>Relationship</th>\n",
              "      <th>Workclass</th>\n",
              "      <th>fnlwgt</th>\n",
              "      <th>Capital Gain</th>\n",
              "      <th>Capital Loss</th>\n",
              "      <th>Hours per week</th>\n",
              "      <th>Target</th>\n",
              "    </tr>\n",
              "  </thead>\n",
              "  <tbody>\n",
              "    <tr>\n",
              "      <th>0</th>\n",
              "      <td>39.0</td>\n",
              "      <td>Male</td>\n",
              "      <td>49084</td>\n",
              "      <td>White</td>\n",
              "      <td>United-States</td>\n",
              "      <td>Bachelors</td>\n",
              "      <td>13.0</td>\n",
              "      <td>Never-married</td>\n",
              "      <td>Not-in-family</td>\n",
              "      <td>State-gov</td>\n",
              "      <td>77516.0</td>\n",
              "      <td>2174.0</td>\n",
              "      <td>0.0</td>\n",
              "      <td>40.0</td>\n",
              "      <td>&lt;=50K</td>\n",
              "    </tr>\n",
              "    <tr>\n",
              "      <th>1</th>\n",
              "      <td>50.0</td>\n",
              "      <td>Male</td>\n",
              "      <td>68553</td>\n",
              "      <td>White</td>\n",
              "      <td>United-States</td>\n",
              "      <td>Bachelors</td>\n",
              "      <td>13.0</td>\n",
              "      <td>Married-civ-spouse</td>\n",
              "      <td>Husband</td>\n",
              "      <td>Self-emp-not-inc</td>\n",
              "      <td>83311.0</td>\n",
              "      <td>0.0</td>\n",
              "      <td>0.0</td>\n",
              "      <td>13.0</td>\n",
              "      <td>&lt;=50K</td>\n",
              "    </tr>\n",
              "    <tr>\n",
              "      <th>2</th>\n",
              "      <td>38.0</td>\n",
              "      <td>Male</td>\n",
              "      <td>143654</td>\n",
              "      <td>White</td>\n",
              "      <td>United-States</td>\n",
              "      <td>HS-grad</td>\n",
              "      <td>9.0</td>\n",
              "      <td>Divorced</td>\n",
              "      <td>Not-in-family</td>\n",
              "      <td>Private</td>\n",
              "      <td>215646.0</td>\n",
              "      <td>0.0</td>\n",
              "      <td>0.0</td>\n",
              "      <td>40.0</td>\n",
              "      <td>&lt;=50K</td>\n",
              "    </tr>\n",
              "    <tr>\n",
              "      <th>3</th>\n",
              "      <td>53.0</td>\n",
              "      <td>Male</td>\n",
              "      <td>41510</td>\n",
              "      <td>Black</td>\n",
              "      <td>United-States</td>\n",
              "      <td>11th</td>\n",
              "      <td>7.0</td>\n",
              "      <td>Married-civ-spouse</td>\n",
              "      <td>Husband</td>\n",
              "      <td>Private</td>\n",
              "      <td>234721.0</td>\n",
              "      <td>0.0</td>\n",
              "      <td>0.0</td>\n",
              "      <td>40.0</td>\n",
              "      <td>&lt;=50K</td>\n",
              "    </tr>\n",
              "    <tr>\n",
              "      <th>4</th>\n",
              "      <td>28.0</td>\n",
              "      <td>Female</td>\n",
              "      <td>195025</td>\n",
              "      <td>Black</td>\n",
              "      <td>Cuba</td>\n",
              "      <td>Bachelors</td>\n",
              "      <td>13.0</td>\n",
              "      <td>Married-civ-spouse</td>\n",
              "      <td>Wife</td>\n",
              "      <td>Private</td>\n",
              "      <td>338409.0</td>\n",
              "      <td>0.0</td>\n",
              "      <td>0.0</td>\n",
              "      <td>40.0</td>\n",
              "      <td>&lt;=50K</td>\n",
              "    </tr>\n",
              "    <tr>\n",
              "      <th>5</th>\n",
              "      <td>37.0</td>\n",
              "      <td>Female</td>\n",
              "      <td>231557</td>\n",
              "      <td>White</td>\n",
              "      <td>United-States</td>\n",
              "      <td>Masters</td>\n",
              "      <td>14.0</td>\n",
              "      <td>Married-civ-spouse</td>\n",
              "      <td>Wife</td>\n",
              "      <td>Private</td>\n",
              "      <td>284582.0</td>\n",
              "      <td>0.0</td>\n",
              "      <td>0.0</td>\n",
              "      <td>40.0</td>\n",
              "      <td>&lt;=50K</td>\n",
              "    </tr>\n",
              "  </tbody>\n",
              "</table>\n",
              "</div>\n",
              "      <button class=\"colab-df-convert\" onclick=\"convertToInteractive('df-dd76f7be-c6fe-4c10-ba82-d5c9da7b27b6')\"\n",
              "              title=\"Convert this dataframe to an interactive table.\"\n",
              "              style=\"display:none;\">\n",
              "        \n",
              "  <svg xmlns=\"http://www.w3.org/2000/svg\" height=\"24px\"viewBox=\"0 0 24 24\"\n",
              "       width=\"24px\">\n",
              "    <path d=\"M0 0h24v24H0V0z\" fill=\"none\"/>\n",
              "    <path d=\"M18.56 5.44l.94 2.06.94-2.06 2.06-.94-2.06-.94-.94-2.06-.94 2.06-2.06.94zm-11 1L8.5 8.5l.94-2.06 2.06-.94-2.06-.94L8.5 2.5l-.94 2.06-2.06.94zm10 10l.94 2.06.94-2.06 2.06-.94-2.06-.94-.94-2.06-.94 2.06-2.06.94z\"/><path d=\"M17.41 7.96l-1.37-1.37c-.4-.4-.92-.59-1.43-.59-.52 0-1.04.2-1.43.59L10.3 9.45l-7.72 7.72c-.78.78-.78 2.05 0 2.83L4 21.41c.39.39.9.59 1.41.59.51 0 1.02-.2 1.41-.59l7.78-7.78 2.81-2.81c.8-.78.8-2.07 0-2.86zM5.41 20L4 18.59l7.72-7.72 1.47 1.35L5.41 20z\"/>\n",
              "  </svg>\n",
              "      </button>\n",
              "      \n",
              "  <style>\n",
              "    .colab-df-container {\n",
              "      display:flex;\n",
              "      flex-wrap:wrap;\n",
              "      gap: 12px;\n",
              "    }\n",
              "\n",
              "    .colab-df-convert {\n",
              "      background-color: #E8F0FE;\n",
              "      border: none;\n",
              "      border-radius: 50%;\n",
              "      cursor: pointer;\n",
              "      display: none;\n",
              "      fill: #1967D2;\n",
              "      height: 32px;\n",
              "      padding: 0 0 0 0;\n",
              "      width: 32px;\n",
              "    }\n",
              "\n",
              "    .colab-df-convert:hover {\n",
              "      background-color: #E2EBFA;\n",
              "      box-shadow: 0px 1px 2px rgba(60, 64, 67, 0.3), 0px 1px 3px 1px rgba(60, 64, 67, 0.15);\n",
              "      fill: #174EA6;\n",
              "    }\n",
              "\n",
              "    [theme=dark] .colab-df-convert {\n",
              "      background-color: #3B4455;\n",
              "      fill: #D2E3FC;\n",
              "    }\n",
              "\n",
              "    [theme=dark] .colab-df-convert:hover {\n",
              "      background-color: #434B5C;\n",
              "      box-shadow: 0px 1px 3px 1px rgba(0, 0, 0, 0.15);\n",
              "      filter: drop-shadow(0px 1px 2px rgba(0, 0, 0, 0.3));\n",
              "      fill: #FFFFFF;\n",
              "    }\n",
              "  </style>\n",
              "\n",
              "      <script>\n",
              "        const buttonEl =\n",
              "          document.querySelector('#df-dd76f7be-c6fe-4c10-ba82-d5c9da7b27b6 button.colab-df-convert');\n",
              "        buttonEl.style.display =\n",
              "          google.colab.kernel.accessAllowed ? 'block' : 'none';\n",
              "\n",
              "        async function convertToInteractive(key) {\n",
              "          const element = document.querySelector('#df-dd76f7be-c6fe-4c10-ba82-d5c9da7b27b6');\n",
              "          const dataTable =\n",
              "            await google.colab.kernel.invokeFunction('convertToInteractive',\n",
              "                                                     [key], {});\n",
              "          if (!dataTable) return;\n",
              "\n",
              "          const docLinkHtml = 'Like what you see? Visit the ' +\n",
              "            '<a target=\"_blank\" href=https://colab.research.google.com/notebooks/data_table.ipynb>data table notebook</a>'\n",
              "            + ' to learn more about interactive tables.';\n",
              "          element.innerHTML = '';\n",
              "          dataTable['output_type'] = 'display_data';\n",
              "          await google.colab.output.renderOutput(dataTable, element);\n",
              "          const docLink = document.createElement('div');\n",
              "          docLink.innerHTML = docLinkHtml;\n",
              "          element.appendChild(docLink);\n",
              "        }\n",
              "      </script>\n",
              "    </div>\n",
              "  </div>\n",
              "  "
            ]
          },
          "metadata": {},
          "execution_count": 73
        }
      ]
    },
    {
      "cell_type": "code",
      "source": [
        "#veo si en el left join quedó algun id sin joinear\n",
        "df.isnull().sum()\n"
      ],
      "metadata": {
        "colab": {
          "base_uri": "https://localhost:8080/"
        },
        "id": "oP0TLYssGJFJ",
        "outputId": "4e2e8ee4-d789-4db0-fda9-51f2ad510eb1"
      },
      "execution_count": null,
      "outputs": [
        {
          "output_type": "execute_result",
          "data": {
            "text/plain": [
              "Age               2\n",
              "Sex               2\n",
              "ID                0\n",
              "Race              2\n",
              "Country           2\n",
              "Education         2\n",
              "Education-Num     2\n",
              "Marital Status    2\n",
              "Relationship      2\n",
              "Workclass         1\n",
              "fnlwgt            1\n",
              "Capital Gain      1\n",
              "Capital Loss      1\n",
              "Hours per week    1\n",
              "Target            1\n",
              "dtype: int64"
            ]
          },
          "metadata": {},
          "execution_count": 74
        }
      ]
    },
    {
      "cell_type": "code",
      "source": [
        "df.info\n",
        "#pareciera que w tiene un caso más que p"
      ],
      "metadata": {
        "colab": {
          "base_uri": "https://localhost:8080/"
        },
        "id": "t_GgOSgvHsoQ",
        "outputId": "6efa699f-5d26-4c0a-9c2f-779e95887fbc"
      },
      "execution_count": null,
      "outputs": [
        {
          "output_type": "execute_result",
          "data": {
            "text/plain": [
              "<bound method DataFrame.info of         Age      Sex          ID                 Race         Country  \\\n",
              "0      39.0     Male       49084                White   United-States   \n",
              "1      50.0     Male       68553                White   United-States   \n",
              "2      38.0     Male      143654                White   United-States   \n",
              "3      53.0     Male       41510                Black   United-States   \n",
              "4      28.0   Female      195025                Black            Cuba   \n",
              "...     ...      ...         ...                  ...             ...   \n",
              "48838  39.0   Female   735617153                White   United-States   \n",
              "48839  64.0     Male  1131807446                Black   United-States   \n",
              "48840  38.0     Male   781422087                White   United-States   \n",
              "48841  44.0     Male   161771296   Asian-Pac-Islander   United-States   \n",
              "48842   NaN      NaN  1344995623                  NaN             NaN   \n",
              "\n",
              "        Education  Education-Num       Marital Status     Relationship  \\\n",
              "0       Bachelors           13.0        Never-married    Not-in-family   \n",
              "1       Bachelors           13.0   Married-civ-spouse          Husband   \n",
              "2         HS-grad            9.0             Divorced    Not-in-family   \n",
              "3            11th            7.0   Married-civ-spouse          Husband   \n",
              "4       Bachelors           13.0   Married-civ-spouse             Wife   \n",
              "...           ...            ...                  ...              ...   \n",
              "48838   Bachelors           13.0             Divorced    Not-in-family   \n",
              "48839     HS-grad            9.0              Widowed   Other-relative   \n",
              "48840   Bachelors           13.0   Married-civ-spouse          Husband   \n",
              "48841   Bachelors           13.0             Divorced        Own-child   \n",
              "48842         NaN            NaN                  NaN              NaN   \n",
              "\n",
              "               Workclass    fnlwgt  Capital Gain  Capital Loss  \\\n",
              "0              State-gov   77516.0        2174.0           0.0   \n",
              "1       Self-emp-not-inc   83311.0           0.0           0.0   \n",
              "2                Private  215646.0           0.0           0.0   \n",
              "3                Private  234721.0           0.0           0.0   \n",
              "4                Private  338409.0           0.0           0.0   \n",
              "...                  ...       ...           ...           ...   \n",
              "48838            Private  215419.0           0.0           0.0   \n",
              "48839                  ?  321403.0           0.0           0.0   \n",
              "48840            Private  374983.0           0.0           0.0   \n",
              "48841            Private   83891.0        5455.0           0.0   \n",
              "48842       Self-emp-inc  182148.0           0.0           0.0   \n",
              "\n",
              "       Hours per week   Target  \n",
              "0                40.0    <=50K  \n",
              "1                13.0    <=50K  \n",
              "2                40.0    <=50K  \n",
              "3                40.0    <=50K  \n",
              "4                40.0    <=50K  \n",
              "...               ...      ...  \n",
              "48838            36.0   <=50K.  \n",
              "48839            40.0   <=50K.  \n",
              "48840            50.0   <=50K.  \n",
              "48841            40.0   <=50K.  \n",
              "48842            60.0    >50K.  \n",
              "\n",
              "[48843 rows x 15 columns]>"
            ]
          },
          "metadata": {},
          "execution_count": 75
        }
      ]
    },
    {
      "cell_type": "code",
      "source": [
        "#consigna 2\n",
        "\n",
        "#veo valores unicos\n",
        "print(df['Target'].unique())"
      ],
      "metadata": {
        "colab": {
          "base_uri": "https://localhost:8080/"
        },
        "id": "-lXWsr2CInXG",
        "outputId": "1bce76b5-a976-40b6-bacf-e22c81533fdd"
      },
      "execution_count": null,
      "outputs": [
        {
          "output_type": "stream",
          "name": "stdout",
          "text": [
            "[' <=50K' ' >50K' nan ' <=50K.' ' >50K.']\n"
          ]
        }
      ]
    },
    {
      "cell_type": "code",
      "source": [
        "#modifico valores\n",
        "df['Target'] = df['Target'].map({' <=50K':'<=50K',\n",
        "                             ' >50K':'>50K',\n",
        "                             ' <=50K.':'<=50K',\n",
        "                             ' >50K.':'>50K'})\n"
      ],
      "metadata": {
        "id": "GHo2LNMtJNr7"
      },
      "execution_count": null,
      "outputs": []
    },
    {
      "cell_type": "code",
      "source": [
        "#veo valores unicos\n",
        "print(df['Target'].unique())"
      ],
      "metadata": {
        "colab": {
          "base_uri": "https://localhost:8080/"
        },
        "id": "8d0PbE4KJ-9I",
        "outputId": "a841af12-eaae-4fe0-f1c1-69507d56f374"
      },
      "execution_count": null,
      "outputs": [
        {
          "output_type": "stream",
          "name": "stdout",
          "text": [
            "['<=50K' '>50K' nan]\n"
          ]
        }
      ]
    },
    {
      "cell_type": "code",
      "source": [
        "#consigna 3\n",
        "\n",
        "#Calcular la proporción que hay entre personas con salarios >50k respecto del total para \n",
        "#personas de distinto sexo, Raza y Educacion. Por ejemplo cuál es el porcentaje de mujeres \n",
        "#con un salario mayor a 50K y compararlo con el de los hombres. Lo mismo para personas de distintas razas y Educación\n",
        "\n",
        "total = df['Target'].values.tolist()\n",
        "porcentaje = round(total.count('>50K')/len(total)*100,2)\n",
        "print('La proporción de personas que ganan más de 50K sobre el total es del', porcentaje, '%')\n"
      ],
      "metadata": {
        "id": "pFZpb9r1L6N1",
        "colab": {
          "base_uri": "https://localhost:8080/"
        },
        "outputId": "9e692dd0-4ce8-4c76-c606-0c8bbb2350fc"
      },
      "execution_count": null,
      "outputs": [
        {
          "output_type": "stream",
          "name": "stdout",
          "text": [
            "La proporción de personas que ganan más de 50K sobre el total es del 23.93 %\n"
          ]
        }
      ]
    },
    {
      "cell_type": "code",
      "source": [
        "sex = df.groupby(['Sex','Target'])['Target'].count()\n",
        "\n",
        "print(sex)"
      ],
      "metadata": {
        "colab": {
          "base_uri": "https://localhost:8080/"
        },
        "id": "SG9V199p8L2X",
        "outputId": "d190b015-b1c3-4c78-c32e-6f829f0f37ef"
      },
      "execution_count": null,
      "outputs": [
        {
          "output_type": "stream",
          "name": "stdout",
          "text": [
            "Sex      Target\n",
            " Female  <=50K     14423\n",
            "         >50K       1769\n",
            " Male    <=50K     22732\n",
            "         >50K       9917\n",
            "Name: Target, dtype: int64\n"
          ]
        }
      ]
    },
    {
      "cell_type": "code",
      "source": [
        "#Proporción de mujeres/varones que ganan más de 50k\n",
        "mujeres = round(1769/(1769+14423)*100,2)\n",
        "varones = round(9917/(9917+22732)*100,2)\n",
        "print('La proporción de mujeres que ganan más de 50K sobre el total de mujeres es del', mujeres, '%')\n",
        "print('La proporción de varones que ganan más de 50K sobre el total de varones es del', varones, '%')"
      ],
      "metadata": {
        "id": "rJwt7lm_hCAt",
        "colab": {
          "base_uri": "https://localhost:8080/"
        },
        "outputId": "047d01a3-8c3c-4c6d-f53b-efd529dc57a5"
      },
      "execution_count": null,
      "outputs": [
        {
          "output_type": "stream",
          "name": "stdout",
          "text": [
            "La proporción de mujeres que ganan más de 50K sobre el total de mujeres es del 10.93 %\n",
            "La proporción de varones que ganan más de 50K sobre el total de varones es del 30.37 %\n"
          ]
        }
      ]
    },
    {
      "cell_type": "code",
      "source": [
        "#Proporción de blancos/varones que ganan más de 50k\n",
        "\n",
        "race = df.groupby(['Race','Target'])['Target'].count()\n",
        "\n",
        "print(race)"
      ],
      "metadata": {
        "colab": {
          "base_uri": "https://localhost:8080/"
        },
        "id": "LC3uIuY4k8-o",
        "outputId": "fa95afbd-30be-4e01-a617-fe8bdaee4c8d"
      },
      "execution_count": null,
      "outputs": [
        {
          "output_type": "stream",
          "name": "stdout",
          "text": [
            "Race                 Target\n",
            " Amer-Indian-Eskimo  <=50K       415\n",
            "                     >50K         55\n",
            " Asian-Pac-Islander  <=50K      1110\n",
            "                     >50K        409\n",
            " Black               <=50K      4119\n",
            "                     >50K        566\n",
            " Other               <=50K       356\n",
            "                     >50K         50\n",
            " White               <=50K     31155\n",
            "                     >50K      10606\n",
            "Name: Target, dtype: int64\n"
          ]
        }
      ]
    },
    {
      "cell_type": "code",
      "source": [
        "#Proporción que ganan más de 50k por Race\n",
        "black = round(566/(566+4119)*100,2)\n",
        "white = round(10606/(10606+31155)*100,2)\n",
        "print('La proporción de negros que ganan más de 50K sobre el total de mujeres es del', black, '%')\n",
        "print('La proporción de blancos que ganan más de 50K sobre el total de varones es del', white, '%')"
      ],
      "metadata": {
        "colab": {
          "base_uri": "https://localhost:8080/"
        },
        "id": "jxwA_nZ2lE3l",
        "outputId": "4f6702f5-ae3b-490d-861d-98ae801c88a0"
      },
      "execution_count": null,
      "outputs": [
        {
          "output_type": "stream",
          "name": "stdout",
          "text": [
            "La proporción de negros que ganan más de 50K sobre el total de mujeres es del 12.08 %\n",
            "La proporción de blancos que ganan más de 50K sobre el total de varones es del 25.4 %\n"
          ]
        }
      ]
    },
    {
      "cell_type": "code",
      "source": [
        "#Proporción que gana más de 50k por education\n",
        "education = df.groupby(['Education','Target'])['Target'].count()\n",
        "print(education)"
      ],
      "metadata": {
        "colab": {
          "base_uri": "https://localhost:8080/"
        },
        "id": "VMEUsWJOlgNV",
        "outputId": "12441bf9-aa0a-4ccc-ffd2-1deb939b67b7"
      },
      "execution_count": null,
      "outputs": [
        {
          "output_type": "stream",
          "name": "stdout",
          "text": [
            "Education      Target\n",
            " 10th          <=50K      1302\n",
            "               >50K         87\n",
            " 11th          <=50K      1720\n",
            "               >50K         92\n",
            " 12th          <=50K       609\n",
            "               >50K         48\n",
            " 1st-4th       <=50K       239\n",
            "               >50K          8\n",
            " 5th-6th       <=50K       482\n",
            "               >50K         27\n",
            " 7th-8th       <=50K       893\n",
            "               >50K         62\n",
            " 9th           <=50K       715\n",
            "               >50K         41\n",
            " Assoc-acdm    <=50K      1188\n",
            "               >50K        413\n",
            " Assoc-voc     <=50K      1539\n",
            "               >50K        522\n",
            " Bachelors     <=50K      4712\n",
            "               >50K       3312\n",
            " Doctorate     <=50K       163\n",
            "               >50K        431\n",
            " HS-grad       <=50K     13281\n",
            "               >50K       2503\n",
            " Masters       <=50K      1198\n",
            "               >50K       1459\n",
            " Preschool     <=50K        82\n",
            "               >50K          1\n",
            " Prof-school   <=50K       217\n",
            "               >50K        617\n",
            " Some-college  <=50K      8815\n",
            "               >50K       2063\n",
            "Name: Target, dtype: int64\n"
          ]
        }
      ]
    },
    {
      "cell_type": "code",
      "source": [
        "#Proporción que gana más de 50k por education\n",
        "bachelors = round(3312/(3312+4712)*100,2)\n",
        "doctorate = round(431/(431+163)*100,2)\n",
        "print('La proporción de licenciados que ganan más de 50K sobre el total de licenciados es del', bachelors, '%')\n",
        "print('La proporción de doctorados que ganan más de 50K sobre el total de doctorados es del', doctorate, '%')"
      ],
      "metadata": {
        "colab": {
          "base_uri": "https://localhost:8080/"
        },
        "id": "cQYQR2w4lw62",
        "outputId": "b47a076a-9dc9-4c64-d612-1cb8c60a1948"
      },
      "execution_count": null,
      "outputs": [
        {
          "output_type": "stream",
          "name": "stdout",
          "text": [
            "La proporción de licenciados que ganan más de 50K sobre el total de licenciados es del 41.28 %\n",
            "La proporción de doctorados que ganan más de 50K sobre el total de doctorados es del 72.56 %\n"
          ]
        }
      ]
    }
  ]
}